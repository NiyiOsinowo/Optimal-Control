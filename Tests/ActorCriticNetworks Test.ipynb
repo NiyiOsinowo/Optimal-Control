{
 "cells": [
  {
   "cell_type": "code",
   "execution_count": 15,
   "metadata": {},
   "outputs": [
    {
     "data": {
      "text/plain": [
       "'/Users/niyi/Documents/GitHub/Optimal-Control'"
      ]
     },
     "execution_count": 15,
     "metadata": {},
     "output_type": "execute_result"
    }
   ],
   "source": [
    "import torch as T\n",
    "import torch.nn as nn \n",
    "import os\n",
    "project_path= os.path.dirname(os.path.abspath(os.curdir))\n",
    "import sys\n",
    "sys.path.insert(0, project_path+ '/Tools')\n",
    "from ActorCriticNetworks import ActorNetwork, CriticNetwork\n",
    "project_path"
   ]
  },
  {
   "cell_type": "code",
   "execution_count": 16,
   "metadata": {},
   "outputs": [],
   "source": [
    "test_state= T.rand((5, 4))\n",
    "test_action= T.rand((5, 2))"
   ]
  },
  {
   "cell_type": "code",
   "execution_count": 17,
   "metadata": {},
   "outputs": [
    {
     "name": "stdout",
     "output_type": "stream",
     "text": [
      "... saving checkpoint ...\n",
      "tensor([[0.7581],\n",
      "        [0.7217],\n",
      "        [0.6977],\n",
      "        [0.9210],\n",
      "        [0.8352]], grad_fn=<AddmmBackward0>)\n",
      "... loading checkpoint ...\n",
      "tensor([[0.7581],\n",
      "        [0.7217],\n",
      "        [0.6977],\n",
      "        [0.9210],\n",
      "        [0.8352]], grad_fn=<AddmmBackward0>)\n"
     ]
    },
    {
     "data": {
      "text/plain": [
       "'/Users/niyi/Documents/GitHub/Optimal-Control/Data/Temp/critic_data/test_critic'"
      ]
     },
     "execution_count": 17,
     "metadata": {},
     "output_type": "execute_result"
    }
   ],
   "source": [
    "critic_save_path= os.path.join(project_path, 'Data', 'Temp', 'critic_data')\n",
    "actor_save_path= os.path.join(project_path, 'Data', 'Temp', 'actor_data')\n",
    "observation_size= 4\n",
    "action_size= 2\n",
    "critic_layers= (10, 15)\n",
    "critic_activations= (nn.ReLU(), nn.ReLU())\n",
    "critic_learning_rate= 0.02\n",
    "test_critic1 = CriticNetwork(observation_size,\n",
    "                             action_size,\n",
    "                             critic_layers,\n",
    "                             critic_activations,\n",
    "                             'test_critic',\n",
    "                             critic_learning_rate,\n",
    "                             critic_save_path)\n",
    "test_critic1.save_checkpoint()\n",
    "print(test_critic1(test_state, test_action))\n",
    "test_critic1.load_checkpoint()\n",
    "print(test_critic1(test_state, test_action))\n",
    "test_critic1.checkpoint_file"
   ]
  },
  {
   "cell_type": "code",
   "execution_count": 18,
   "metadata": {},
   "outputs": [
    {
     "name": "stdout",
     "output_type": "stream",
     "text": [
      "... saving checkpoint ...\n",
      "tensor([[-0.3029,  0.1755],\n",
      "        [-0.4778,  0.2025],\n",
      "        [-0.4362,  0.1010],\n",
      "        [-0.4249,  0.1304],\n",
      "        [-0.5176,  0.1580]], grad_fn=<AddmmBackward0>)\n",
      "... loading checkpoint ...\n",
      "tensor([[-0.3029,  0.1755],\n",
      "        [-0.4778,  0.2025],\n",
      "        [-0.4362,  0.1010],\n",
      "        [-0.4249,  0.1304],\n",
      "        [-0.5176,  0.1580]], grad_fn=<AddmmBackward0>)\n"
     ]
    },
    {
     "data": {
      "text/plain": [
       "'/Users/niyi/Documents/GitHub/Optimal-Control/Data/Temp/actor_data/test_critic'"
      ]
     },
     "execution_count": 18,
     "metadata": {},
     "output_type": "execute_result"
    }
   ],
   "source": [
    "actor_layers= (10, 15)\n",
    "actor_activations= (nn.ReLU(), nn.ReLU())\n",
    "actor_learning_rate= 0.02\n",
    "test_actor1 = ActorNetwork(observation_size,\n",
    "                             action_size,\n",
    "                             actor_layers,\n",
    "                             actor_activations,\n",
    "                             'test_critic',\n",
    "                             actor_learning_rate,\n",
    "                             actor_save_path)\n",
    "test_actor1.save_checkpoint()\n",
    "print(test_actor1(test_state))\n",
    "test_actor1.load_checkpoint()\n",
    "print(test_actor1(test_state))\n",
    "test_actor1.checkpoint_file"
   ]
  },
  {
   "cell_type": "markdown",
   "metadata": {},
   "source": [
    "**3. Functional tests** to check if this module functions as intended.They only verify the output of an action and do not check the intermediate states of the system when performing that action. "
   ]
  },
  {
   "cell_type": "markdown",
   "metadata": {},
   "source": [
    "Can copy parameters"
   ]
  },
  {
   "cell_type": "code",
   "execution_count": 19,
   "metadata": {},
   "outputs": [
    {
     "name": "stdout",
     "output_type": "stream",
     "text": [
      "tensor([[-0.0974],\n",
      "        [-0.0271],\n",
      "        [-0.1013],\n",
      "        [ 0.0128],\n",
      "        [-0.0364]], grad_fn=<AddmmBackward0>)\n",
      "tensor([[0.7581],\n",
      "        [0.7217],\n",
      "        [0.6977],\n",
      "        [0.9210],\n",
      "        [0.8352]], grad_fn=<AddmmBackward0>)\n"
     ]
    }
   ],
   "source": [
    "test_critic2= CriticNetwork(observation_size,\n",
    "                             action_size,\n",
    "                             critic_layers,\n",
    "                             critic_activations,\n",
    "                             'test_critic2',\n",
    "                             critic_learning_rate,\n",
    "                             critic_save_path)\n",
    "\n",
    "print(test_critic2(test_state, test_action))\n",
    "for target_param, param in zip(test_critic2.parameters(), test_critic1.parameters()):\n",
    "    target_param.data.copy_(param.data)\n",
    "print(test_critic2(test_state, test_action))"
   ]
  },
  {
   "cell_type": "code",
   "execution_count": 20,
   "metadata": {},
   "outputs": [
    {
     "name": "stdout",
     "output_type": "stream",
     "text": [
      "tensor([[-0.0743,  0.3329],\n",
      "        [ 0.1989,  0.3361],\n",
      "        [-0.0132,  0.2911],\n",
      "        [ 0.0090,  0.4133],\n",
      "        [ 0.2157,  0.3326]], grad_fn=<AddmmBackward0>)\n",
      "tensor([[-0.3029,  0.1755],\n",
      "        [-0.4778,  0.2025],\n",
      "        [-0.4362,  0.1010],\n",
      "        [-0.4249,  0.1304],\n",
      "        [-0.5176,  0.1580]], grad_fn=<AddmmBackward0>)\n"
     ]
    }
   ],
   "source": [
    "test_actor2= ActorNetwork(observation_size,\n",
    "                             action_size,\n",
    "                             actor_layers,\n",
    "                             actor_activations,\n",
    "                             'test_critic',\n",
    "                             actor_learning_rate,\n",
    "                             actor_save_path)\n",
    "print(test_actor2(test_state))\n",
    "for target_param, param in zip(test_actor2.parameters(), test_actor1.parameters()):\n",
    "    target_param.data.copy_(param.data)\n",
    "print(test_actor2(test_state))"
   ]
  },
  {
   "cell_type": "markdown",
   "metadata": {},
   "source": [
    "Can learn to approximate values"
   ]
  },
  {
   "cell_type": "code",
   "execution_count": 21,
   "metadata": {},
   "outputs": [
    {
     "data": {
      "text/plain": [
       "(tensor([[0.6643],\n",
       "         [0.0303],\n",
       "         [0.4405],\n",
       "         [0.3337],\n",
       "         [0.2818]], grad_fn=<AddmmBackward0>),\n",
       " tensor([[0.6643],\n",
       "         [0.0303],\n",
       "         [0.4405],\n",
       "         [0.3337],\n",
       "         [0.2818]]))"
      ]
     },
     "execution_count": 21,
     "metadata": {},
     "output_type": "execute_result"
    }
   ],
   "source": [
    "y_train= T.rand((5, 1))\n",
    "epochs = 300\n",
    "for epoch in range(epochs):\n",
    "    y_pred = test_critic1(test_state, test_action)\n",
    "    loss = T.nn.MSELoss()(y_pred, y_train)\n",
    "    test_critic1.optimizer.zero_grad()\n",
    "    loss.backward()\n",
    "    test_critic1.optimizer.step()\n",
    "\n",
    "test_critic1(test_state, test_action), y_train"
   ]
  },
  {
   "cell_type": "code",
   "execution_count": 22,
   "metadata": {},
   "outputs": [
    {
     "data": {
      "text/plain": [
       "(tensor([[0.8183, 0.9644],\n",
       "         [0.4772, 0.0145],\n",
       "         [0.4895, 0.2994],\n",
       "         [0.1575, 0.2199],\n",
       "         [0.1056, 0.5755]], grad_fn=<AddmmBackward0>),\n",
       " tensor([[0.8183, 0.9644],\n",
       "         [0.4772, 0.0145],\n",
       "         [0.4895, 0.2994],\n",
       "         [0.1575, 0.2199],\n",
       "         [0.1056, 0.5755]]))"
      ]
     },
     "execution_count": 22,
     "metadata": {},
     "output_type": "execute_result"
    }
   ],
   "source": [
    "epochs = 300\n",
    "for epoch in range(epochs):\n",
    "    y_pred = test_actor1(test_state)\n",
    "    loss = T.nn.MSELoss()(y_pred, test_action)\n",
    "    test_actor1.optimizer.zero_grad()\n",
    "    loss.backward()\n",
    "    test_actor1.optimizer.step()\n",
    "\n",
    "test_actor1(test_state), test_action"
   ]
  }
 ],
 "metadata": {
  "kernelspec": {
   "display_name": "Python 3",
   "language": "python",
   "name": "python3"
  },
  "language_info": {
   "codemirror_mode": {
    "name": "ipython",
    "version": 3
   },
   "file_extension": ".py",
   "mimetype": "text/x-python",
   "name": "python",
   "nbconvert_exporter": "python",
   "pygments_lexer": "ipython3",
   "version": "3.12.1"
  }
 },
 "nbformat": 4,
 "nbformat_minor": 2
}
