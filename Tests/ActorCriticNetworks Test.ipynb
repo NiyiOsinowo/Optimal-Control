{
 "cells": [
  {
   "cell_type": "code",
   "execution_count": 11,
   "metadata": {},
   "outputs": [],
   "source": [
    "import sys\n",
    "sys.path.insert(0, '/Users/niyi/Documents/GitHub/Optimal-Control/Tools')\n",
    "from ActorCriticNetworks import ActorNetwork, CriticNetwork\n",
    "import torch as T"
   ]
  },
  {
   "cell_type": "code",
   "execution_count": 12,
   "metadata": {},
   "outputs": [
    {
     "data": {
      "text/plain": [
       "(tensor([[-1.4355, -0.7806,  0.3042,  1.1601, -0.1184]]),\n",
       " tensor([[0.8233, 0.8126]]),\n",
       " tensor([[0.1717]], grad_fn=<AddmmBackward0>))"
      ]
     },
     "execution_count": 12,
     "metadata": {},
     "output_type": "execute_result"
    }
   ],
   "source": [
    "N= CriticNetwork(0.02, 5, 10, 15, 2, name='tb')\n",
    "\n",
    "bt= T.tensor([[-1.4355, -0.7806,  0.3042,  1.1601, -0.1184]])\n",
    "at= T.tensor([[0.8233, 0.8126]])\n",
    "# for target_param in N.parameters():\n",
    "#     print(target_param)\n",
    "bt, at, N(bt, at)"
   ]
  },
  {
   "cell_type": "code",
   "execution_count": 13,
   "metadata": {},
   "outputs": [
    {
     "data": {
      "text/plain": [
       "(tensor([[-0.6552,  0.0852,  2.0087, -0.6352,  0.4445]]),\n",
       " tensor([[ 0.0671, -0.2960]], grad_fn=<AddmmBackward0>))"
      ]
     },
     "execution_count": 13,
     "metadata": {},
     "output_type": "execute_result"
    }
   ],
   "source": [
    "Nt= ActorNetwork(0.02, 5, 10, 15, 2, name='btt')\n",
    "\n",
    "btt= T.tensor([[-0.6552,  0.0852,  2.0087, -0.6352,  0.4445]])\n",
    "att= T.randn(1, 2)\n",
    "\n",
    "# Nt.load_checkpoint()\n",
    "btt, Nt(btt)"
   ]
  }
 ],
 "metadata": {
  "kernelspec": {
   "display_name": "Python 3",
   "language": "python",
   "name": "python3"
  },
  "language_info": {
   "codemirror_mode": {
    "name": "ipython",
    "version": 3
   },
   "file_extension": ".py",
   "mimetype": "text/x-python",
   "name": "python",
   "nbconvert_exporter": "python",
   "pygments_lexer": "ipython3",
   "version": "3.12.1"
  }
 },
 "nbformat": 4,
 "nbformat_minor": 2
}
