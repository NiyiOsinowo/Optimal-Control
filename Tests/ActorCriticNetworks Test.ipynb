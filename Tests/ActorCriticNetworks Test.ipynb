{
 "cells": [
  {
   "cell_type": "code",
   "execution_count": 26,
   "metadata": {},
   "outputs": [],
   "source": [
    "import sys    \n",
    "import os    \n",
    "sys.path.insert(0, '/Users/niyi/Documents/GitHub/Optimal-Control/Tools')\n",
    "from ActorCriticNetworks import ActorNetwork, CriticNetwork\n",
    "import torch as T\n",
    "import torch.nn as nn "
   ]
  },
  {
   "cell_type": "code",
   "execution_count": 27,
   "metadata": {},
   "outputs": [
    {
     "name": "stdout",
     "output_type": "stream",
     "text": [
      "... loading checkpoint ...\n"
     ]
    }
   ],
   "source": [
    "test_critic= CriticNetwork(4, 2, (10, 15), (nn.ReLU(), nn.ReLU()), name='test_critic', learning_rate=0.02)\n",
    "test_critic.load_checkpoint()\n",
    "test_state= T.tensor([[-1.4355, -0.7806,  0.3042,  1.1601]])\n",
    "test_action= T.tensor([[0.8233, 0.8126]])\n",
    "# for target_param, param in zip(test_critic.parameters(), test_critic.network.parameters()):\n",
    "#     print(target_param-param)"
   ]
  },
  {
   "cell_type": "code",
   "execution_count": 28,
   "metadata": {},
   "outputs": [
    {
     "data": {
      "text/plain": [
       "tensor([[0.0832]], grad_fn=<AddmmBackward0>)"
      ]
     },
     "execution_count": 28,
     "metadata": {},
     "output_type": "execute_result"
    }
   ],
   "source": [
    "test_critic(test_state, test_action)"
   ]
  },
  {
   "cell_type": "code",
   "execution_count": 29,
   "metadata": {},
   "outputs": [
    {
     "name": "stdout",
     "output_type": "stream",
     "text": [
      "... loading checkpoint ...\n"
     ]
    },
    {
     "ename": "RuntimeError",
     "evalue": "Error(s) in loading state_dict for ActorNetwork:\n\tMissing key(s) in state_dict: \"network.0.bias\", \"network.0.parametrizations.weight.original0\", \"network.0.parametrizations.weight.original1\", \"network.1.weight\", \"network.1.bias\", \"network.3.bias\", \"network.3.parametrizations.weight.original0\", \"network.3.parametrizations.weight.original1\", \"network.4.weight\", \"network.4.bias\", \"network.6.bias\", \"network.6.parametrizations.weight.original0\", \"network.6.parametrizations.weight.original1\". \n\tUnexpected key(s) in state_dict: \"0.bias\", \"0.parametrizations.weight.original0\", \"0.parametrizations.weight.original1\", \"1.weight\", \"1.bias\", \"3.bias\", \"3.parametrizations.weight.original0\", \"3.parametrizations.weight.original1\", \"4.weight\", \"4.bias\", \"6.bias\", \"6.parametrizations.weight.original0\", \"6.parametrizations.weight.original1\". ",
     "output_type": "error",
     "traceback": [
      "\u001b[0;31m---------------------------------------------------------------------------\u001b[0m",
      "\u001b[0;31mRuntimeError\u001b[0m                              Traceback (most recent call last)",
      "Cell \u001b[0;32mIn[29], line 4\u001b[0m\n\u001b[1;32m      1\u001b[0m test_actor\u001b[38;5;241m=\u001b[39m ActorNetwork(\u001b[38;5;241m4\u001b[39m, \u001b[38;5;241m2\u001b[39m, (\u001b[38;5;241m10\u001b[39m, \u001b[38;5;241m15\u001b[39m), (nn\u001b[38;5;241m.\u001b[39mReLU(), nn\u001b[38;5;241m.\u001b[39mReLU()), \u001b[38;5;124m'\u001b[39m\u001b[38;5;124mtest_actor\u001b[39m\u001b[38;5;124m'\u001b[39m, \u001b[38;5;241m0.02\u001b[39m)\n\u001b[1;32m      2\u001b[0m \u001b[38;5;66;03m# for target_param in test_actor.parameters():\u001b[39;00m\n\u001b[1;32m      3\u001b[0m \u001b[38;5;66;03m#     print(target_param)\u001b[39;00m\n\u001b[0;32m----> 4\u001b[0m \u001b[43mtest_actor\u001b[49m\u001b[38;5;241;43m.\u001b[39;49m\u001b[43mload_checkpoint\u001b[49m\u001b[43m(\u001b[49m\u001b[43m)\u001b[49m\n",
      "File \u001b[0;32m~/Documents/GitHub/Optimal-Control/Tools/ActorCriticNetworks.py:83\u001b[0m, in \u001b[0;36mActorNetwork.load_checkpoint\u001b[0;34m(self)\u001b[0m\n\u001b[1;32m     81\u001b[0m \u001b[38;5;28;01mdef\u001b[39;00m \u001b[38;5;21mload_checkpoint\u001b[39m(\u001b[38;5;28mself\u001b[39m):\n\u001b[1;32m     82\u001b[0m     \u001b[38;5;28mprint\u001b[39m(\u001b[38;5;124m'\u001b[39m\u001b[38;5;124m... loading checkpoint ...\u001b[39m\u001b[38;5;124m'\u001b[39m)\n\u001b[0;32m---> 83\u001b[0m     \u001b[38;5;28;43mself\u001b[39;49m\u001b[38;5;241;43m.\u001b[39;49m\u001b[43mload_state_dict\u001b[49m\u001b[43m(\u001b[49m\u001b[43mT\u001b[49m\u001b[38;5;241;43m.\u001b[39;49m\u001b[43mload\u001b[49m\u001b[43m(\u001b[49m\u001b[38;5;28;43mself\u001b[39;49m\u001b[38;5;241;43m.\u001b[39;49m\u001b[43mcheckpoint_file\u001b[49m\u001b[43m)\u001b[49m\u001b[43m)\u001b[49m\n",
      "File \u001b[0;32m/Library/Frameworks/Python.framework/Versions/3.12/lib/python3.12/site-packages/torch/nn/modules/module.py:2153\u001b[0m, in \u001b[0;36mModule.load_state_dict\u001b[0;34m(self, state_dict, strict, assign)\u001b[0m\n\u001b[1;32m   2148\u001b[0m         error_msgs\u001b[38;5;241m.\u001b[39minsert(\n\u001b[1;32m   2149\u001b[0m             \u001b[38;5;241m0\u001b[39m, \u001b[38;5;124m'\u001b[39m\u001b[38;5;124mMissing key(s) in state_dict: \u001b[39m\u001b[38;5;132;01m{}\u001b[39;00m\u001b[38;5;124m. \u001b[39m\u001b[38;5;124m'\u001b[39m\u001b[38;5;241m.\u001b[39mformat(\n\u001b[1;32m   2150\u001b[0m                 \u001b[38;5;124m'\u001b[39m\u001b[38;5;124m, \u001b[39m\u001b[38;5;124m'\u001b[39m\u001b[38;5;241m.\u001b[39mjoin(\u001b[38;5;124mf\u001b[39m\u001b[38;5;124m'\u001b[39m\u001b[38;5;124m\"\u001b[39m\u001b[38;5;132;01m{\u001b[39;00mk\u001b[38;5;132;01m}\u001b[39;00m\u001b[38;5;124m\"\u001b[39m\u001b[38;5;124m'\u001b[39m \u001b[38;5;28;01mfor\u001b[39;00m k \u001b[38;5;129;01min\u001b[39;00m missing_keys)))\n\u001b[1;32m   2152\u001b[0m \u001b[38;5;28;01mif\u001b[39;00m \u001b[38;5;28mlen\u001b[39m(error_msgs) \u001b[38;5;241m>\u001b[39m \u001b[38;5;241m0\u001b[39m:\n\u001b[0;32m-> 2153\u001b[0m     \u001b[38;5;28;01mraise\u001b[39;00m \u001b[38;5;167;01mRuntimeError\u001b[39;00m(\u001b[38;5;124m'\u001b[39m\u001b[38;5;124mError(s) in loading state_dict for \u001b[39m\u001b[38;5;132;01m{}\u001b[39;00m\u001b[38;5;124m:\u001b[39m\u001b[38;5;130;01m\\n\u001b[39;00m\u001b[38;5;130;01m\\t\u001b[39;00m\u001b[38;5;132;01m{}\u001b[39;00m\u001b[38;5;124m'\u001b[39m\u001b[38;5;241m.\u001b[39mformat(\n\u001b[1;32m   2154\u001b[0m                        \u001b[38;5;28mself\u001b[39m\u001b[38;5;241m.\u001b[39m\u001b[38;5;18m__class__\u001b[39m\u001b[38;5;241m.\u001b[39m\u001b[38;5;18m__name__\u001b[39m, \u001b[38;5;124m\"\u001b[39m\u001b[38;5;130;01m\\n\u001b[39;00m\u001b[38;5;130;01m\\t\u001b[39;00m\u001b[38;5;124m\"\u001b[39m\u001b[38;5;241m.\u001b[39mjoin(error_msgs)))\n\u001b[1;32m   2155\u001b[0m \u001b[38;5;28;01mreturn\u001b[39;00m _IncompatibleKeys(missing_keys, unexpected_keys)\n",
      "\u001b[0;31mRuntimeError\u001b[0m: Error(s) in loading state_dict for ActorNetwork:\n\tMissing key(s) in state_dict: \"network.0.bias\", \"network.0.parametrizations.weight.original0\", \"network.0.parametrizations.weight.original1\", \"network.1.weight\", \"network.1.bias\", \"network.3.bias\", \"network.3.parametrizations.weight.original0\", \"network.3.parametrizations.weight.original1\", \"network.4.weight\", \"network.4.bias\", \"network.6.bias\", \"network.6.parametrizations.weight.original0\", \"network.6.parametrizations.weight.original1\". \n\tUnexpected key(s) in state_dict: \"0.bias\", \"0.parametrizations.weight.original0\", \"0.parametrizations.weight.original1\", \"1.weight\", \"1.bias\", \"3.bias\", \"3.parametrizations.weight.original0\", \"3.parametrizations.weight.original1\", \"4.weight\", \"4.bias\", \"6.bias\", \"6.parametrizations.weight.original0\", \"6.parametrizations.weight.original1\". "
     ]
    }
   ],
   "source": [
    "test_actor= ActorNetwork(4, 2, (10, 15), (nn.ReLU(), nn.ReLU()), 'test_actor', 0.02)\n",
    "# for target_param in test_actor.parameters():\n",
    "#     print(target_param)\n",
    "test_actor.load_checkpoint()"
   ]
  },
  {
   "cell_type": "code",
   "execution_count": null,
   "metadata": {},
   "outputs": [
    {
     "data": {
      "text/plain": [
       "tensor([[-0.6985,  0.5704]], grad_fn=<AddmmBackward0>)"
      ]
     },
     "execution_count": 25,
     "metadata": {},
     "output_type": "execute_result"
    }
   ],
   "source": [
    "test_actor(test_state)"
   ]
  }
 ],
 "metadata": {
  "kernelspec": {
   "display_name": "Python 3",
   "language": "python",
   "name": "python3"
  },
  "language_info": {
   "codemirror_mode": {
    "name": "ipython",
    "version": 3
   },
   "file_extension": ".py",
   "mimetype": "text/x-python",
   "name": "python",
   "nbconvert_exporter": "python",
   "pygments_lexer": "ipython3",
   "version": "3.12.1"
  }
 },
 "nbformat": 4,
 "nbformat_minor": 2
}
