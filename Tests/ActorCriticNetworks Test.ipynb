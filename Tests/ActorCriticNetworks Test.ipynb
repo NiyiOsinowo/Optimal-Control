{
 "cells": [
  {
   "cell_type": "code",
   "execution_count": 11,
   "metadata": {},
   "outputs": [],
   "source": [
    "import sys\n",
    "sys.path.insert(0, '/Users/niyi/Documents/GitHub/Optimal-Control/Tools')\n",
    "from ActorCriticNetworks import ActorNetwork, CriticNetwork\n",
    "import torch as T\n",
    "import torch.nn as nn "
   ]
  },
  {
   "cell_type": "code",
   "execution_count": 12,
   "metadata": {},
   "outputs": [
    {
     "name": "stdout",
     "output_type": "stream",
     "text": [
      "... saving checkpoint ...\n"
     ]
    }
   ],
   "source": [
    "test_critic= CriticNetwork(4, 2, (10, 15), (nn.ReLU(), nn.ReLU()), name='tb', learning_rate=0.02)\n",
    "test_critic.save_checkpoint()\n",
    "test_state= T.tensor([[-1.4355, -0.7806,  0.3042,  1.1601]])\n",
    "test_action= T.tensor([[0.8233, 0.8126]])\n",
    "# for target_param, param in zip(test_critic.parameters(), test_critic.network.parameters()):\n",
    "#     print(target_param-param)\n"
   ]
  },
  {
   "cell_type": "code",
   "execution_count": 13,
   "metadata": {},
   "outputs": [
    {
     "data": {
      "text/plain": [
       "tensor([[-0.4071]], grad_fn=<AddmmBackward0>)"
      ]
     },
     "execution_count": 13,
     "metadata": {},
     "output_type": "execute_result"
    }
   ],
   "source": [
    "test_critic(test_state, test_action)"
   ]
  },
  {
   "cell_type": "code",
   "execution_count": 14,
   "metadata": {},
   "outputs": [
    {
     "name": "stdout",
     "output_type": "stream",
     "text": [
      "... saving checkpoint ...\n"
     ]
    }
   ],
   "source": [
    "test_actor= ActorNetwork(4, 2, (10, 15), (nn.ReLU(), nn.ReLU()), 'bt', 0.02)\n",
    "test_critic.save_checkpoint()\n",
    "# for target_param in test_actor.parameters():\n",
    "#     print(target_param)\n",
    "# Nt.load_checkpoint()\n"
   ]
  },
  {
   "cell_type": "code",
   "execution_count": 15,
   "metadata": {},
   "outputs": [
    {
     "data": {
      "text/plain": [
       "tensor([[-0.0277,  0.2246]], grad_fn=<AddmmBackward0>)"
      ]
     },
     "execution_count": 15,
     "metadata": {},
     "output_type": "execute_result"
    }
   ],
   "source": [
    "test_actor(test_state)"
   ]
  }
 ],
 "metadata": {
  "kernelspec": {
   "display_name": "Python 3",
   "language": "python",
   "name": "python3"
  },
  "language_info": {
   "codemirror_mode": {
    "name": "ipython",
    "version": 3
   },
   "file_extension": ".py",
   "mimetype": "text/x-python",
   "name": "python",
   "nbconvert_exporter": "python",
   "pygments_lexer": "ipython3",
   "version": "3.12.1"
  }
 },
 "nbformat": 4,
 "nbformat_minor": 2
}
