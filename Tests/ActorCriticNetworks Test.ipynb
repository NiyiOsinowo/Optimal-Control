{
 "cells": [
  {
   "cell_type": "code",
   "execution_count": null,
   "metadata": {},
   "outputs": [],
   "source": [
    "import sys\n",
    "sys.path.insert(0, '/Users/niyi/Documents/GitHub/Optimal-Control/Tools')\n",
    "from ActorCriticNetworks import ActorNetwork, CriticNetwork\n",
    "import torch as T\n",
    "import torch.nn as nn\n",
    "import torch.nn.functional as F\n",
    "import torch.optim as optim"
   ]
  },
  {
   "cell_type": "code",
   "execution_count": null,
   "metadata": {},
   "outputs": [],
   "source": [
    "N= CriticNetwork(0.02, 5, 10, 15, 2, name='tb')\n",
    "\n",
    "bt= T.tensor([[-1.4355, -0.7806,  0.3042,  1.1601, -0.1184]])\n",
    "at= T.tensor([[0.8233, 0.8126]])\n",
    "for target_param in N.parameters():\n",
    "    print(target_param) \n",
    "bt, N(bt)\n",
    "N.load_checkpoint()\n",
    "bt, at, N(bt, at)"
   ]
  },
  {
   "cell_type": "code",
   "execution_count": null,
   "metadata": {},
   "outputs": [],
   "source": [
    "Nt= ActorNetwork(0.02, 5, 10, 15, 2, name='btt')\n",
    "\n",
    "btt= T.tensor([[-0.6552,  0.0852,  2.0087, -0.6352,  0.4445]])\n",
    "att= T.randn(1, 2)\n",
    "\n",
    "Nt.load_checkpoint()\n",
    "btt, Nt(btt)"
   ]
  }
 ],
 "metadata": {
  "language_info": {
   "name": "python"
  }
 },
 "nbformat": 4,
 "nbformat_minor": 2
}
