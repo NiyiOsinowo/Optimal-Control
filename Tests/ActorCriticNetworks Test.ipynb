{
 "cells": [
  {
   "cell_type": "code",
   "execution_count": 22,
   "metadata": {},
   "outputs": [],
   "source": [
    "import sys\n",
    "sys.path.insert(0, '/Users/niyi/Documents/GitHub/Optimal-Control/Tools')\n",
    "from ActorCriticNetworks import ActorNetwork, CriticNetwork\n",
    "import torch as T\n",
    "import torch.nn as nn "
   ]
  },
  {
   "cell_type": "code",
   "execution_count": 23,
   "metadata": {},
   "outputs": [
    {
     "name": "stdout",
     "output_type": "stream",
     "text": [
      "Parameter containing:\n",
      "tensor([-0.2706, -0.0614, -0.2883,  0.2431,  0.3263, -0.0296,  0.3737, -0.2038,\n",
      "        -0.0088,  0.2855], requires_grad=True)\n",
      "Parameter containing:\n",
      "tensor([[0.5295],\n",
      "        [0.7208],\n",
      "        [0.4848],\n",
      "        [0.5669],\n",
      "        [0.7163],\n",
      "        [0.5158],\n",
      "        [0.4331],\n",
      "        [0.6241],\n",
      "        [0.5239],\n",
      "        [0.5695]], requires_grad=True)\n",
      "Parameter containing:\n",
      "tensor([[ 0.3007,  0.1331, -0.1733,  0.3065,  0.0327,  0.0237, -0.2158],\n",
      "        [ 0.2032, -0.2366,  0.3346,  0.2217,  0.3775, -0.1301,  0.3189],\n",
      "        [-0.0928,  0.3732,  0.1267,  0.1218,  0.1164, -0.0750, -0.1924],\n",
      "        [ 0.2861,  0.2474,  0.2067, -0.0808, -0.3582,  0.0027, -0.0285],\n",
      "        [-0.2669, -0.1725,  0.2255,  0.1891,  0.2597, -0.3458,  0.3720],\n",
      "        [-0.1186,  0.3734, -0.0652, -0.1471, -0.0090, -0.2521, -0.1517],\n",
      "        [ 0.1143,  0.2857,  0.1075, -0.2654,  0.0885,  0.0315,  0.0458],\n",
      "        [-0.2741,  0.1005, -0.2027, -0.3302, -0.2264,  0.1264, -0.2949],\n",
      "        [-0.1325,  0.2992, -0.1442, -0.3179,  0.1127, -0.1335,  0.1225],\n",
      "        [ 0.1218, -0.1841,  0.1310,  0.1249, -0.3341, -0.3397, -0.1257]],\n",
      "       requires_grad=True)\n",
      "Parameter containing:\n",
      "tensor([1., 1., 1., 1., 1., 1., 1., 1., 1., 1.], requires_grad=True)\n",
      "Parameter containing:\n",
      "tensor([0., 0., 0., 0., 0., 0., 0., 0., 0., 0.], requires_grad=True)\n",
      "Parameter containing:\n",
      "tensor([ 0.0202,  0.1302,  0.0053, -0.0136,  0.2225,  0.2063,  0.1945,  0.0208,\n",
      "         0.2129,  0.1777, -0.0124, -0.0087,  0.1549, -0.2244,  0.0840],\n",
      "       requires_grad=True)\n",
      "Parameter containing:\n",
      "tensor([[0.5533],\n",
      "        [0.6034],\n",
      "        [0.3673],\n",
      "        [0.5392],\n",
      "        [0.6281],\n",
      "        [0.6561],\n",
      "        [0.5210],\n",
      "        [0.5977],\n",
      "        [0.5937],\n",
      "        [0.5364],\n",
      "        [0.6367],\n",
      "        [0.5681],\n",
      "        [0.6062],\n",
      "        [0.5625],\n",
      "        [0.4380]], requires_grad=True)\n",
      "Parameter containing:\n",
      "tensor([[ 0.2292, -0.1336,  0.2517,  0.2424, -0.1448,  0.0168, -0.0085, -0.0963,\n",
      "          0.2281, -0.1762],\n",
      "        [ 0.0278,  0.1674,  0.1081,  0.2382, -0.0729, -0.3105, -0.2838, -0.0994,\n",
      "         -0.2140,  0.1700],\n",
      "        [-0.1154,  0.2786, -0.0247,  0.0874, -0.1262,  0.0306,  0.0483, -0.0351,\n",
      "          0.0497, -0.1134],\n",
      "        [ 0.0990,  0.2128, -0.0799,  0.3157, -0.1440,  0.2359, -0.2005,  0.0361,\n",
      "          0.1005,  0.0393],\n",
      "        [-0.2191, -0.1488,  0.0957,  0.1741,  0.0459,  0.3110, -0.2734, -0.2770,\n",
      "         -0.1758,  0.0607],\n",
      "        [-0.2139,  0.1987,  0.3119,  0.1884, -0.1038, -0.0818,  0.1020, -0.2997,\n",
      "          0.0716, -0.2993],\n",
      "        [-0.0819,  0.2029, -0.2002,  0.1900,  0.1131, -0.0368, -0.1833, -0.2946,\n",
      "          0.0854,  0.0748],\n",
      "        [ 0.2427, -0.2195,  0.0618, -0.2901, -0.0186, -0.1562,  0.2868,  0.1850,\n",
      "          0.1039,  0.1004],\n",
      "        [ 0.1493, -0.2876,  0.1066,  0.1666, -0.2686,  0.0855, -0.1865,  0.2890,\n",
      "         -0.1016,  0.0186],\n",
      "        [ 0.2180,  0.1092, -0.1348, -0.1808,  0.2030,  0.2231, -0.0142,  0.2172,\n",
      "          0.1866, -0.0649],\n",
      "        [ 0.3117,  0.0255, -0.2850, -0.2213,  0.2480, -0.2444,  0.1070,  0.1033,\n",
      "          0.1776,  0.0500],\n",
      "        [-0.0214,  0.2938,  0.2320, -0.2351, -0.0421,  0.2087,  0.0169,  0.2668,\n",
      "          0.0128, -0.0992],\n",
      "        [-0.2218,  0.1749,  0.2366, -0.0937,  0.2257,  0.2656, -0.1705, -0.2086,\n",
      "          0.1229,  0.1176],\n",
      "        [ 0.2672, -0.0316,  0.0917, -0.2582, -0.2147, -0.2370,  0.0175,  0.0126,\n",
      "         -0.1054,  0.2346],\n",
      "        [-0.1322,  0.1082, -0.1854,  0.0227, -0.0213, -0.0808,  0.2127, -0.1672,\n",
      "         -0.1927, -0.1023]], requires_grad=True)\n",
      "Parameter containing:\n",
      "tensor([1., 1., 1., 1., 1., 1., 1., 1., 1., 1., 1., 1., 1., 1., 1.],\n",
      "       requires_grad=True)\n",
      "Parameter containing:\n",
      "tensor([0., 0., 0., 0., 0., 0., 0., 0., 0., 0., 0., 0., 0., 0., 0.],\n",
      "       requires_grad=True)\n",
      "Parameter containing:\n",
      "tensor([-0.1753], requires_grad=True)\n",
      "Parameter containing:\n",
      "tensor([[0.5542]], requires_grad=True)\n",
      "Parameter containing:\n",
      "tensor([[-0.1855,  0.0151, -0.1581, -0.1492, -0.0861, -0.0099,  0.2068, -0.1121,\n",
      "         -0.1415, -0.1281,  0.0812, -0.1723, -0.1239,  0.2253,  0.1537]],\n",
      "       requires_grad=True)\n"
     ]
    },
    {
     "data": {
      "text/plain": [
       "(tensor([[-1.4355, -0.7806,  0.3042,  1.1601, -0.1184]]),\n",
       " tensor([[0.8233, 0.8126]]),\n",
       " tensor([[-0.2387]], grad_fn=<AddmmBackward0>))"
      ]
     },
     "execution_count": 23,
     "metadata": {},
     "output_type": "execute_result"
    }
   ],
   "source": [
    "N= CriticNetwork(5, 2, (10, 15), (nn.ReLU(), nn.ReLU()), name='tb', learning_rate=0.02)\n",
    "\n",
    "bt= T.tensor([[-1.4355, -0.7806,  0.3042,  1.1601, -0.1184]])\n",
    "at= T.tensor([[0.8233, 0.8126]])\n",
    "for target_param in N.parameters():\n",
    "    print(target_param)\n",
    "bt, at, N(bt, at)"
   ]
  },
  {
   "cell_type": "code",
   "execution_count": 24,
   "metadata": {},
   "outputs": [
    {
     "ename": "TypeError",
     "evalue": "ActorNetwork.__init__() got multiple values for argument 'name'",
     "output_type": "error",
     "traceback": [
      "\u001b[0;31m---------------------------------------------------------------------------\u001b[0m",
      "\u001b[0;31mTypeError\u001b[0m                                 Traceback (most recent call last)",
      "Cell \u001b[0;32mIn[24], line 1\u001b[0m\n\u001b[0;32m----> 1\u001b[0m Nt\u001b[38;5;241m=\u001b[39m \u001b[43mActorNetwork\u001b[49m\u001b[43m(\u001b[49m\u001b[38;5;241;43m5\u001b[39;49m\u001b[43m,\u001b[49m\u001b[43m \u001b[49m\u001b[38;5;241;43m2\u001b[39;49m\u001b[43m,\u001b[49m\u001b[43m \u001b[49m\u001b[43m(\u001b[49m\u001b[38;5;241;43m10\u001b[39;49m\u001b[43m,\u001b[49m\u001b[43m \u001b[49m\u001b[38;5;241;43m15\u001b[39;49m\u001b[43m)\u001b[49m\u001b[43m,\u001b[49m\u001b[43m \u001b[49m\u001b[43m(\u001b[49m\u001b[43mnn\u001b[49m\u001b[38;5;241;43m.\u001b[39;49m\u001b[43mReLU\u001b[49m\u001b[43m(\u001b[49m\u001b[43m)\u001b[49m\u001b[43m,\u001b[49m\u001b[43m \u001b[49m\u001b[43mnn\u001b[49m\u001b[38;5;241;43m.\u001b[39;49m\u001b[43mReLU\u001b[49m\u001b[43m(\u001b[49m\u001b[43m)\u001b[49m\u001b[43m)\u001b[49m\u001b[43m,\u001b[49m\u001b[43m \u001b[49m\u001b[43mlearning_rate\u001b[49m\u001b[38;5;241;43m=\u001b[39;49m\u001b[38;5;241;43m0.02\u001b[39;49m\u001b[43m,\u001b[49m\u001b[43m \u001b[49m\u001b[43mname\u001b[49m\u001b[38;5;241;43m=\u001b[39;49m\u001b[38;5;124;43m'\u001b[39;49m\u001b[38;5;124;43mbtt\u001b[39;49m\u001b[38;5;124;43m'\u001b[39;49m\u001b[43m)\u001b[49m\n\u001b[1;32m      3\u001b[0m btt\u001b[38;5;241m=\u001b[39m T\u001b[38;5;241m.\u001b[39mtensor([[\u001b[38;5;241m-\u001b[39m\u001b[38;5;241m0.6552\u001b[39m,  \u001b[38;5;241m0.0852\u001b[39m,  \u001b[38;5;241m2.0087\u001b[39m, \u001b[38;5;241m-\u001b[39m\u001b[38;5;241m0.6352\u001b[39m,  \u001b[38;5;241m0.4445\u001b[39m]])\n\u001b[1;32m      4\u001b[0m att\u001b[38;5;241m=\u001b[39m T\u001b[38;5;241m.\u001b[39mrandn(\u001b[38;5;241m1\u001b[39m, \u001b[38;5;241m2\u001b[39m)\n",
      "\u001b[0;31mTypeError\u001b[0m: ActorNetwork.__init__() got multiple values for argument 'name'"
     ]
    }
   ],
   "source": [
    "Nt= ActorNetwork(5, 2, (10, 15), (nn.ReLU(), nn.ReLU()), learning_rate=0.02, name='btt')\n",
    "\n",
    "btt= T.tensor([[-0.6552,  0.0852,  2.0087, -0.6352,  0.4445]])\n",
    "att= T.randn(1, 2)\n",
    "\n",
    "# Nt.load_checkpoint()\n",
    "btt, Nt(btt)"
   ]
  }
 ],
 "metadata": {
  "kernelspec": {
   "display_name": "Python 3",
   "language": "python",
   "name": "python3"
  },
  "language_info": {
   "codemirror_mode": {
    "name": "ipython",
    "version": 3
   },
   "file_extension": ".py",
   "mimetype": "text/x-python",
   "name": "python",
   "nbconvert_exporter": "python",
   "pygments_lexer": "ipython3",
   "version": "3.12.1"
  }
 },
 "nbformat": 4,
 "nbformat_minor": 2
}
