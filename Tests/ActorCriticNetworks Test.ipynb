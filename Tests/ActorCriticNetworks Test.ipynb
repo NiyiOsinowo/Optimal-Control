{
 "cells": [
  {
   "cell_type": "code",
   "execution_count": 2,
   "metadata": {},
   "outputs": [],
   "source": [
    "import torch as T\n",
    "import torch.nn as nn \n",
    "import os\n",
    "project_path= os.path.dirname(os.path.abspath(os.curdir))\n",
    "import sys\n",
    "sys.path.insert(0, project_path+ '/Tools')\n",
    "from ActorCriticNetworks import ActorNetwork, CriticNetwork"
   ]
  },
  {
   "cell_type": "code",
   "execution_count": 3,
   "metadata": {},
   "outputs": [],
   "source": [
    "test_state= T.rand((5, 4))\n",
    "test_action= T.rand((5, 2))"
   ]
  },
  {
   "cell_type": "code",
   "execution_count": 4,
   "metadata": {},
   "outputs": [
    {
     "name": "stdout",
     "output_type": "stream",
     "text": [
      "... saving checkpoint ...\n",
      "tensor([[-0.0138],\n",
      "        [-0.0755],\n",
      "        [-0.0602],\n",
      "        [-0.0609],\n",
      "        [ 0.0111]], grad_fn=<AddmmBackward0>)\n",
      "... loading checkpoint ...\n",
      "tensor([[-0.0138],\n",
      "        [-0.0755],\n",
      "        [-0.0602],\n",
      "        [-0.0609],\n",
      "        [ 0.0111]], grad_fn=<AddmmBackward0>)\n"
     ]
    }
   ],
   "source": [
    "test_critic1= CriticNetwork(4, 2, (10, 15), (nn.ReLU(), nn.ReLU()), name='test_critic1', learning_rate=0.02, project_path=project_path)\n",
    "test_critic1.save_checkpoint()\n",
    "print(test_critic1(test_state, test_action))\n",
    "test_critic1.load_checkpoint()\n",
    "print(test_critic1(test_state, test_action))"
   ]
  },
  {
   "cell_type": "code",
   "execution_count": 5,
   "metadata": {},
   "outputs": [
    {
     "name": "stdout",
     "output_type": "stream",
     "text": [
      "... saving checkpoint ...\n",
      "tensor([[ 0.5501,  0.1159],\n",
      "        [ 0.4632,  0.5521],\n",
      "        [ 0.5391,  0.3004],\n",
      "        [ 0.5998, -0.0442],\n",
      "        [ 0.5526,  0.1891]], grad_fn=<AddmmBackward0>)\n",
      "... loading checkpoint ...\n",
      "tensor([[ 0.5501,  0.1159],\n",
      "        [ 0.4632,  0.5521],\n",
      "        [ 0.5391,  0.3004],\n",
      "        [ 0.5998, -0.0442],\n",
      "        [ 0.5526,  0.1891]], grad_fn=<AddmmBackward0>)\n"
     ]
    }
   ],
   "source": [
    "test_actor1= ActorNetwork(4, 2, (10, 15), (nn.ReLU(), nn.ReLU()), 'test_actor', 0.02, project_path=project_path)\n",
    "test_actor1.save_checkpoint()\n",
    "print(test_actor1(test_state))\n",
    "test_actor1.load_checkpoint()\n",
    "print(test_actor1(test_state))"
   ]
  },
  {
   "cell_type": "markdown",
   "metadata": {},
   "source": [
    "**3. Functional tests** to check if this module functions as intended.They only verify the output of an action and do not check the intermediate states of the system when performing that action. "
   ]
  },
  {
   "cell_type": "markdown",
   "metadata": {},
   "source": [
    "Can copy parameters"
   ]
  },
  {
   "cell_type": "code",
   "execution_count": 6,
   "metadata": {},
   "outputs": [
    {
     "name": "stdout",
     "output_type": "stream",
     "text": [
      "tensor([[0.7321],\n",
      "        [0.6102],\n",
      "        [0.7516],\n",
      "        [0.7558],\n",
      "        [0.6097]], grad_fn=<AddmmBackward0>)\n",
      "tensor([[-0.0138],\n",
      "        [-0.0755],\n",
      "        [-0.0602],\n",
      "        [-0.0609],\n",
      "        [ 0.0111]], grad_fn=<AddmmBackward0>)\n"
     ]
    }
   ],
   "source": [
    "test_critic2= CriticNetwork(4, 2, (10, 15), (nn.ReLU(), nn.ReLU()), name='test_critic2', learning_rate=0.02, project_path=project_path)\n",
    "\n",
    "print(test_critic2(test_state, test_action))\n",
    "for target_param, param in zip(test_critic2.parameters(), test_critic1.parameters()):\n",
    "    target_param.data.copy_(param.data)\n",
    "print(test_critic2(test_state, test_action))"
   ]
  },
  {
   "cell_type": "code",
   "execution_count": 7,
   "metadata": {},
   "outputs": [
    {
     "name": "stdout",
     "output_type": "stream",
     "text": [
      "tensor([[ 0.9180, -0.7236],\n",
      "        [ 1.0393, -0.1689],\n",
      "        [ 0.8875, -0.6562],\n",
      "        [ 0.9131, -0.6161],\n",
      "        [ 0.9137, -0.6883]], grad_fn=<AddmmBackward0>)\n",
      "tensor([[ 0.5501,  0.1159],\n",
      "        [ 0.4632,  0.5521],\n",
      "        [ 0.5391,  0.3004],\n",
      "        [ 0.5998, -0.0442],\n",
      "        [ 0.5526,  0.1891]], grad_fn=<AddmmBackward0>)\n"
     ]
    }
   ],
   "source": [
    "test_actor2= ActorNetwork(4, 2, (10, 15), (nn.ReLU(), nn.ReLU()), name='test_actor2', learning_rate=0.02, project_path=project_path)\n",
    "print(test_actor2(test_state))\n",
    "for target_param, param in zip(test_actor2.parameters(), test_actor1.parameters()):\n",
    "    target_param.data.copy_(param.data)\n",
    "print(test_actor2(test_state))"
   ]
  },
  {
   "cell_type": "markdown",
   "metadata": {},
   "source": [
    "Can learn to approximate values"
   ]
  },
  {
   "cell_type": "code",
   "execution_count": 8,
   "metadata": {},
   "outputs": [
    {
     "data": {
      "text/plain": [
       "(tensor([[0.6293],\n",
       "         [0.9279],\n",
       "         [0.0703],\n",
       "         [0.1535],\n",
       "         [0.3170]], grad_fn=<AddmmBackward0>),\n",
       " tensor([[0.6293],\n",
       "         [0.9279],\n",
       "         [0.0703],\n",
       "         [0.1535],\n",
       "         [0.3170]]))"
      ]
     },
     "execution_count": 8,
     "metadata": {},
     "output_type": "execute_result"
    }
   ],
   "source": [
    "y_train= T.rand((5, 1))\n",
    "epochs = 300\n",
    "for epoch in range(epochs):\n",
    "    y_pred = test_critic1(test_state, test_action)\n",
    "    loss = T.nn.MSELoss()(y_pred, y_train)\n",
    "    test_critic1.optimizer.zero_grad()\n",
    "    loss.backward()\n",
    "    test_critic1.optimizer.step()\n",
    "\n",
    "test_critic1(test_state, test_action), y_train"
   ]
  },
  {
   "cell_type": "code",
   "execution_count": 9,
   "metadata": {},
   "outputs": [
    {
     "data": {
      "text/plain": [
       "(tensor([[0.5472, 0.4789],\n",
       "         [0.6220, 0.2908],\n",
       "         [0.8849, 0.7271],\n",
       "         [0.8436, 0.8526],\n",
       "         [0.4033, 0.0236]], grad_fn=<AddmmBackward0>),\n",
       " tensor([[0.5473, 0.4789],\n",
       "         [0.6221, 0.2908],\n",
       "         [0.8849, 0.7271],\n",
       "         [0.8436, 0.8526],\n",
       "         [0.4034, 0.0237]]))"
      ]
     },
     "execution_count": 9,
     "metadata": {},
     "output_type": "execute_result"
    }
   ],
   "source": [
    "epochs = 300\n",
    "for epoch in range(epochs):\n",
    "    y_pred = test_actor1(test_state)\n",
    "    loss = T.nn.MSELoss()(y_pred, test_action)\n",
    "    test_actor1.optimizer.zero_grad()\n",
    "    loss.backward()\n",
    "    test_actor1.optimizer.step()\n",
    "\n",
    "test_actor1(test_state), test_action"
   ]
  }
 ],
 "metadata": {
  "kernelspec": {
   "display_name": "Python 3",
   "language": "python",
   "name": "python3"
  },
  "language_info": {
   "codemirror_mode": {
    "name": "ipython",
    "version": 3
   },
   "file_extension": ".py",
   "mimetype": "text/x-python",
   "name": "python",
   "nbconvert_exporter": "python",
   "pygments_lexer": "ipython3",
   "version": "3.12.1"
  }
 },
 "nbformat": 4,
 "nbformat_minor": 2
}
