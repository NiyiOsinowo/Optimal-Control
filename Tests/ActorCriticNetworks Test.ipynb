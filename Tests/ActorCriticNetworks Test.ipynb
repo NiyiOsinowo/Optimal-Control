{
 "cells": [
  {
   "cell_type": "code",
   "execution_count": 28,
   "metadata": {},
   "outputs": [],
   "source": [
    "import sys    \n",
    "sys.path.insert(0, '/Users/niyi/Documents/GitHub/Optimal-Control/Tools')\n",
    "from ActorCriticNetworks import ActorNetwork, CriticNetwork\n",
    "import torch as T\n",
    "import torch.nn as nn "
   ]
  },
  {
   "cell_type": "code",
   "execution_count": 29,
   "metadata": {},
   "outputs": [],
   "source": [
    "test_state= T.tensor([[-1.4355, -0.7806,  0.3042,  1.1601]])\n",
    "test_action= T.tensor([[0.8233, 0.8126]])"
   ]
  },
  {
   "cell_type": "code",
   "execution_count": 30,
   "metadata": {},
   "outputs": [
    {
     "name": "stdout",
     "output_type": "stream",
     "text": [
      "tensor([[-0.1939]], grad_fn=<AddmmBackward0>)\n",
      "... loading checkpoint ...\n",
      "tensor([[-0.4471]], grad_fn=<AddmmBackward0>)\n"
     ]
    }
   ],
   "source": [
    "test_critic1= CriticNetwork(4, 2, (10, 15), (nn.ReLU(), nn.ReLU()), name='test_critic1', learning_rate=0.02)\n",
    "# test_critic1.save_checkpoint()\n",
    "print(test_critic1(test_state, test_action))\n",
    "test_critic1.load_checkpoint()\n",
    "print(test_critic1(test_state, test_action))"
   ]
  },
  {
   "cell_type": "code",
   "execution_count": 31,
   "metadata": {},
   "outputs": [
    {
     "name": "stdout",
     "output_type": "stream",
     "text": [
      "tensor([[-0.8048]], grad_fn=<AddmmBackward0>)\n",
      "tensor([[-0.4471]], grad_fn=<AddmmBackward0>)\n"
     ]
    }
   ],
   "source": [
    "test_critic2= CriticNetwork(4, 2, (10, 15), (nn.ReLU(), nn.ReLU()), name='test_critic2', learning_rate=0.02)\n",
    "\n",
    "print(test_critic2(test_state, test_action))\n",
    "for target_param, param in zip(test_critic2.parameters(), test_critic1.parameters()):\n",
    "    target_param.data.copy_(param.data)\n",
    "print(test_critic2(test_state, test_action))"
   ]
  },
  {
   "cell_type": "code",
   "execution_count": 32,
   "metadata": {},
   "outputs": [
    {
     "name": "stdout",
     "output_type": "stream",
     "text": [
      "tensor([[ 0.0950, -0.3494]], grad_fn=<AddmmBackward0>)\n",
      "... loading checkpoint ...\n",
      "tensor([[ 0.1185, -0.2919]], grad_fn=<AddmmBackward0>)\n"
     ]
    }
   ],
   "source": [
    "test_actor1= ActorNetwork(4, 2, (10, 15), (nn.ReLU(), nn.ReLU()), 'test_actor', 0.02)\n",
    "# test_actor1.save_checkpoint()\n",
    "print(test_actor1(test_state))\n",
    "test_actor1.load_checkpoint()\n",
    "print(test_actor1(test_state))"
   ]
  },
  {
   "cell_type": "code",
   "execution_count": 33,
   "metadata": {},
   "outputs": [
    {
     "name": "stdout",
     "output_type": "stream",
     "text": [
      "tensor([[ 0.1976, -0.0838]], grad_fn=<AddmmBackward0>)\n",
      "tensor([[ 0.1185, -0.2919]], grad_fn=<AddmmBackward0>)\n"
     ]
    }
   ],
   "source": [
    "test_actor2= ActorNetwork(4, 2, (10, 15), (nn.ReLU(), nn.ReLU()), name='test_actor2', learning_rate=0.02)\n",
    "print(test_actor2(test_state))\n",
    "for target_param, param in zip(test_actor2.parameters(), test_actor1.parameters()):\n",
    "    target_param.data.copy_(param.data)\n",
    "print(test_actor2(test_state))"
   ]
  }
 ],
 "metadata": {
  "kernelspec": {
   "display_name": "Python 3",
   "language": "python",
   "name": "python3"
  },
  "language_info": {
   "codemirror_mode": {
    "name": "ipython",
    "version": 3
   },
   "file_extension": ".py",
   "mimetype": "text/x-python",
   "name": "python",
   "nbconvert_exporter": "python",
   "pygments_lexer": "ipython3",
   "version": "3.12.1"
  }
 },
 "nbformat": 4,
 "nbformat_minor": 2
}
