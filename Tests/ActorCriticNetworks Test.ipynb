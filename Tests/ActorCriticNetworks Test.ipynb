{
 "cells": [
  {
   "cell_type": "code",
   "execution_count": 4,
   "metadata": {},
   "outputs": [],
   "source": [
    "import sys\n",
    "sys.path.insert(0, '/Users/niyi/Documents/GitHub/Optimal-Control/Tools')\n",
    "from ActorCriticNetworks import ActorNetwork, CriticNetwork\n",
    "import torch as T\n",
    "import torch.nn as nn "
   ]
  },
  {
   "cell_type": "code",
   "execution_count": 5,
   "metadata": {},
   "outputs": [
    {
     "name": "stdout",
     "output_type": "stream",
     "text": [
      "Parameter containing:\n",
      "tensor([-0.2044, -0.0149,  0.1442,  0.1900,  0.2032, -0.3229, -0.3135, -0.1537,\n",
      "        -0.1600,  0.2402], requires_grad=True)\n",
      "Parameter containing:\n",
      "tensor([[0.4629],\n",
      "        [0.7502],\n",
      "        [0.7552],\n",
      "        [0.5001],\n",
      "        [0.5373],\n",
      "        [0.7027],\n",
      "        [0.6646],\n",
      "        [0.6163],\n",
      "        [0.4878],\n",
      "        [0.4298]], requires_grad=True)\n",
      "Parameter containing:\n",
      "tensor([[ 0.0175, -0.3737,  0.0772,  0.1259,  0.1587,  0.0358, -0.1614],\n",
      "        [ 0.2866, -0.0279, -0.2935, -0.3641, -0.3645, -0.3554, -0.0442],\n",
      "        [-0.3558,  0.2212, -0.3520, -0.1743,  0.2744,  0.3363,  0.2285],\n",
      "        [-0.1083,  0.0695,  0.1284, -0.3024, -0.1171, -0.2703,  0.1969],\n",
      "        [-0.2650, -0.3011,  0.2865,  0.1268, -0.0164, -0.0051,  0.1715],\n",
      "        [ 0.3289,  0.1176, -0.3321, -0.3122, -0.0036, -0.1950,  0.3550],\n",
      "        [-0.3253, -0.0130, -0.0779, -0.0731,  0.3058,  0.3601, -0.3181],\n",
      "        [-0.2788,  0.3207, -0.1983,  0.1868, -0.0632,  0.2583, -0.2331],\n",
      "        [ 0.2896,  0.3043, -0.0102,  0.1302,  0.1266, -0.0473, -0.1617],\n",
      "        [-0.2788,  0.0739, -0.1693,  0.0135, -0.0860,  0.2079, -0.1484]],\n",
      "       requires_grad=True)\n",
      "Parameter containing:\n",
      "tensor([1., 1., 1., 1., 1., 1., 1., 1., 1., 1.], requires_grad=True)\n",
      "Parameter containing:\n",
      "tensor([0., 0., 0., 0., 0., 0., 0., 0., 0., 0.], requires_grad=True)\n",
      "Parameter containing:\n",
      "tensor([ 0.1628, -0.3083, -0.0331,  0.0179,  0.2668, -0.2349, -0.0802, -0.2411,\n",
      "        -0.3064, -0.0604,  0.1370,  0.1998, -0.3126, -0.2807, -0.0877],\n",
      "       requires_grad=True)\n",
      "Parameter containing:\n",
      "tensor([[0.5461],\n",
      "        [0.5673],\n",
      "        [0.4475],\n",
      "        [0.4730],\n",
      "        [0.4933],\n",
      "        [0.5730],\n",
      "        [0.7529],\n",
      "        [0.7297],\n",
      "        [0.5952],\n",
      "        [0.5695],\n",
      "        [0.7221],\n",
      "        [0.5638],\n",
      "        [0.6076],\n",
      "        [0.5149],\n",
      "        [0.7978]], requires_grad=True)\n",
      "Parameter containing:\n",
      "tensor([[ 0.0354,  0.1862,  0.0639, -0.2110,  0.2346,  0.2250,  0.0024,  0.1256,\n",
      "          0.2090,  0.2204],\n",
      "        [-0.1040, -0.2440,  0.1588,  0.3157,  0.2320, -0.1340,  0.1050,  0.0493,\n",
      "         -0.2001, -0.0364],\n",
      "        [-0.2334,  0.2382,  0.0639, -0.0031, -0.0482,  0.0198,  0.1653,  0.2284,\n",
      "          0.0414, -0.0314],\n",
      "        [ 0.1638,  0.0414,  0.1263, -0.0735,  0.1385, -0.2443, -0.0410,  0.1267,\n",
      "          0.1625, -0.2255],\n",
      "        [-0.3023,  0.1655, -0.0052,  0.1829, -0.0542,  0.0394,  0.0602,  0.0310,\n",
      "          0.2833,  0.0415],\n",
      "        [ 0.0850, -0.2538, -0.2476, -0.2158,  0.1707, -0.0201, -0.0215, -0.2718,\n",
      "          0.2009, -0.0673],\n",
      "        [-0.0751, -0.2014,  0.3013,  0.2950, -0.2668,  0.2812, -0.2283,  0.2455,\n",
      "         -0.2065,  0.1937],\n",
      "        [-0.2987, -0.2920,  0.3056,  0.0828, -0.1344, -0.1269, -0.2810, -0.3103,\n",
      "          0.1260, -0.1799],\n",
      "        [ 0.1140, -0.2427,  0.2544,  0.0552,  0.0569, -0.1998,  0.3075, -0.1106,\n",
      "          0.2535, -0.0192],\n",
      "        [ 0.0958, -0.2460, -0.0892, -0.2140,  0.2360,  0.2028, -0.1403,  0.2300,\n",
      "          0.1693,  0.0543],\n",
      "        [ 0.2493, -0.3005,  0.2898,  0.2712,  0.1795,  0.0294, -0.1511, -0.2521,\n",
      "          0.0497, -0.2992],\n",
      "        [-0.2580, -0.2849, -0.1431, -0.2774, -0.0057,  0.0171, -0.0361, -0.2284,\n",
      "          0.1115, -0.0809],\n",
      "        [-0.2052,  0.0499,  0.0574,  0.0069, -0.2782, -0.3007, -0.2793,  0.2732,\n",
      "          0.0264, -0.0059],\n",
      "        [-0.0577,  0.0454, -0.2051, -0.1442,  0.2778, -0.2013, -0.0964, -0.2128,\n",
      "          0.1407, -0.0690],\n",
      "        [-0.1936,  0.1969,  0.3103,  0.2115,  0.3144, -0.3019,  0.2873,  0.2413,\n",
      "          0.2757,  0.1123]], requires_grad=True)\n",
      "Parameter containing:\n",
      "tensor([1., 1., 1., 1., 1., 1., 1., 1., 1., 1., 1., 1., 1., 1., 1.],\n",
      "       requires_grad=True)\n",
      "Parameter containing:\n",
      "tensor([0., 0., 0., 0., 0., 0., 0., 0., 0., 0., 0., 0., 0., 0., 0.],\n",
      "       requires_grad=True)\n",
      "Parameter containing:\n",
      "tensor([-0.0102], requires_grad=True)\n",
      "Parameter containing:\n",
      "tensor([[0.5059]], requires_grad=True)\n",
      "Parameter containing:\n",
      "tensor([[ 0.0767, -0.0754,  0.1928,  0.0306,  0.0403, -0.0101, -0.1864,  0.2059,\n",
      "          0.2499, -0.0284, -0.2195, -0.1005, -0.0592, -0.0206, -0.0437]],\n",
      "       requires_grad=True)\n"
     ]
    },
    {
     "data": {
      "text/plain": [
       "(tensor([[-1.4355, -0.7806,  0.3042,  1.1601, -0.1184]]),\n",
       " tensor([[0.8233, 0.8126]]),\n",
       " tensor([[-0.1284]], grad_fn=<AddmmBackward0>))"
      ]
     },
     "execution_count": 5,
     "metadata": {},
     "output_type": "execute_result"
    }
   ],
   "source": [
    "N= CriticNetwork(5, 2, (10, 15), (nn.ReLU(), nn.ReLU()), name='tb', learning_rate=0.02)\n",
    "\n",
    "bt= T.tensor([[-1.4355, -0.7806,  0.3042,  1.1601, -0.1184]])\n",
    "at= T.tensor([[0.8233, 0.8126]])\n",
    "for target_param in N.parameters():\n",
    "    print(target_param)\n",
    "bt, at, N(bt, at)"
   ]
  },
  {
   "cell_type": "code",
   "execution_count": 6,
   "metadata": {},
   "outputs": [
    {
     "ename": "TypeError",
     "evalue": "ActorNetwork.__init__() got multiple values for argument 'name'",
     "output_type": "error",
     "traceback": [
      "\u001b[0;31m---------------------------------------------------------------------------\u001b[0m",
      "\u001b[0;31mTypeError\u001b[0m                                 Traceback (most recent call last)",
      "Cell \u001b[0;32mIn[6], line 1\u001b[0m\n\u001b[0;32m----> 1\u001b[0m Nt\u001b[38;5;241m=\u001b[39m \u001b[43mActorNetwork\u001b[49m\u001b[43m(\u001b[49m\u001b[38;5;241;43m5\u001b[39;49m\u001b[43m,\u001b[49m\u001b[43m \u001b[49m\u001b[38;5;241;43m2\u001b[39;49m\u001b[43m,\u001b[49m\u001b[43m \u001b[49m\u001b[43m(\u001b[49m\u001b[38;5;241;43m10\u001b[39;49m\u001b[43m,\u001b[49m\u001b[43m \u001b[49m\u001b[38;5;241;43m15\u001b[39;49m\u001b[43m)\u001b[49m\u001b[43m,\u001b[49m\u001b[43m \u001b[49m\u001b[43m(\u001b[49m\u001b[43mnn\u001b[49m\u001b[38;5;241;43m.\u001b[39;49m\u001b[43mReLU\u001b[49m\u001b[43m(\u001b[49m\u001b[43m)\u001b[49m\u001b[43m,\u001b[49m\u001b[43m \u001b[49m\u001b[43mnn\u001b[49m\u001b[38;5;241;43m.\u001b[39;49m\u001b[43mReLU\u001b[49m\u001b[43m(\u001b[49m\u001b[43m)\u001b[49m\u001b[43m)\u001b[49m\u001b[43m,\u001b[49m\u001b[43m \u001b[49m\u001b[43mname\u001b[49m\u001b[38;5;241;43m=\u001b[39;49m\u001b[38;5;124;43m'\u001b[39;49m\u001b[38;5;124;43mbtt\u001b[39;49m\u001b[38;5;124;43m'\u001b[39;49m\u001b[43m,\u001b[49m\u001b[43m \u001b[49m\u001b[43mlearning_rate\u001b[49m\u001b[38;5;241;43m=\u001b[39;49m\u001b[38;5;241;43m0.02\u001b[39;49m\u001b[43m)\u001b[49m\n\u001b[1;32m      3\u001b[0m btt\u001b[38;5;241m=\u001b[39m T\u001b[38;5;241m.\u001b[39mtensor([[\u001b[38;5;241m-\u001b[39m\u001b[38;5;241m0.6552\u001b[39m,  \u001b[38;5;241m0.0852\u001b[39m,  \u001b[38;5;241m2.0087\u001b[39m, \u001b[38;5;241m-\u001b[39m\u001b[38;5;241m0.6352\u001b[39m,  \u001b[38;5;241m0.4445\u001b[39m]])\n\u001b[1;32m      4\u001b[0m att\u001b[38;5;241m=\u001b[39m T\u001b[38;5;241m.\u001b[39mrandn(\u001b[38;5;241m1\u001b[39m, \u001b[38;5;241m2\u001b[39m)\n",
      "\u001b[0;31mTypeError\u001b[0m: ActorNetwork.__init__() got multiple values for argument 'name'"
     ]
    }
   ],
   "source": [
    "Nt= ActorNetwork(5, 2, (10, 15), (nn.ReLU(), nn.ReLU()), name='btt', learning_rate=0.02)\n",
    "\n",
    "btt= T.tensor([[-0.6552,  0.0852,  2.0087, -0.6352,  0.4445]])\n",
    "att= T.randn(1, 2)\n",
    "\n",
    "# Nt.load_checkpoint()\n",
    "btt, Nt(btt)"
   ]
  }
 ],
 "metadata": {
  "kernelspec": {
   "display_name": "Python 3",
   "language": "python",
   "name": "python3"
  },
  "language_info": {
   "codemirror_mode": {
    "name": "ipython",
    "version": 3
   },
   "file_extension": ".py",
   "mimetype": "text/x-python",
   "name": "python",
   "nbconvert_exporter": "python",
   "pygments_lexer": "ipython3",
   "version": "3.12.1"
  }
 },
 "nbformat": 4,
 "nbformat_minor": 2
}
