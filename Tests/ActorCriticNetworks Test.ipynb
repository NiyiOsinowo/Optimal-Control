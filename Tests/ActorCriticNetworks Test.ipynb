{
 "cells": [
  {
   "cell_type": "code",
   "execution_count": 61,
   "metadata": {},
   "outputs": [],
   "source": [
    "import sys    \n",
    "sys.path.insert(0, '/Users/niyi/Documents/GitHub/Optimal-Control/Tools')\n",
    "from ActorCriticNetworks import ActorNetwork, CriticNetwork\n",
    "import torch as T\n",
    "import torch.nn as nn \n",
    "import os\n",
    "project_path= os.path.dirname(os.path.abspath(os.curdir))"
   ]
  },
  {
   "cell_type": "code",
   "execution_count": 62,
   "metadata": {},
   "outputs": [],
   "source": [
    "test_state= T.rand((5, 4))\n",
    "test_action= T.rand((5, 2))"
   ]
  },
  {
   "cell_type": "code",
   "execution_count": 63,
   "metadata": {},
   "outputs": [
    {
     "name": "stdout",
     "output_type": "stream",
     "text": [
      "... saving checkpoint ...\n",
      "tensor([[-0.1627],\n",
      "        [-0.5450],\n",
      "        [-0.3962],\n",
      "        [-0.6051],\n",
      "        [-0.5436]], grad_fn=<AddmmBackward0>)\n",
      "... loading checkpoint ...\n",
      "tensor([[-0.1627],\n",
      "        [-0.5450],\n",
      "        [-0.3962],\n",
      "        [-0.6051],\n",
      "        [-0.5436]], grad_fn=<AddmmBackward0>)\n"
     ]
    }
   ],
   "source": [
    "test_critic1= CriticNetwork(4, 2, (10, 15), (nn.ReLU(), nn.ReLU()), name='test_critic1', learning_rate=0.02, project_path=project_path)\n",
    "test_critic1.save_checkpoint()\n",
    "print(test_critic1(test_state, test_action))\n",
    "test_critic1.load_checkpoint()\n",
    "print(test_critic1(test_state, test_action))"
   ]
  },
  {
   "cell_type": "code",
   "execution_count": 64,
   "metadata": {},
   "outputs": [
    {
     "name": "stdout",
     "output_type": "stream",
     "text": [
      "... saving checkpoint ...\n",
      "tensor([[ 0.5998,  0.2954],\n",
      "        [ 0.5187,  0.1982],\n",
      "        [ 0.5648,  0.2736],\n",
      "        [ 0.9089,  0.0211],\n",
      "        [ 0.9021, -0.0899]], grad_fn=<AddmmBackward0>)\n",
      "... loading checkpoint ...\n",
      "tensor([[ 0.5998,  0.2954],\n",
      "        [ 0.5187,  0.1982],\n",
      "        [ 0.5648,  0.2736],\n",
      "        [ 0.9089,  0.0211],\n",
      "        [ 0.9021, -0.0899]], grad_fn=<AddmmBackward0>)\n"
     ]
    }
   ],
   "source": [
    "test_actor1= ActorNetwork(4, 2, (10, 15), (nn.ReLU(), nn.ReLU()), 'test_actor', 0.02, project_path=project_path)\n",
    "test_actor1.save_checkpoint()\n",
    "print(test_actor1(test_state))\n",
    "test_actor1.load_checkpoint()\n",
    "print(test_actor1(test_state))"
   ]
  },
  {
   "cell_type": "markdown",
   "metadata": {},
   "source": [
    "**3. Functional tests** to check if this module functions as intended.They only verify the output of an action and do not check the intermediate states of the system when performing that action. "
   ]
  },
  {
   "cell_type": "markdown",
   "metadata": {},
   "source": [
    "Can copy parameters"
   ]
  },
  {
   "cell_type": "code",
   "execution_count": 65,
   "metadata": {},
   "outputs": [
    {
     "name": "stdout",
     "output_type": "stream",
     "text": [
      "tensor([[0.5238],\n",
      "        [0.3752],\n",
      "        [0.4954],\n",
      "        [0.4982],\n",
      "        [0.5368]], grad_fn=<AddmmBackward0>)\n",
      "tensor([[-0.1627],\n",
      "        [-0.5450],\n",
      "        [-0.3962],\n",
      "        [-0.6051],\n",
      "        [-0.5436]], grad_fn=<AddmmBackward0>)\n"
     ]
    }
   ],
   "source": [
    "test_critic2= CriticNetwork(4, 2, (10, 15), (nn.ReLU(), nn.ReLU()), name='test_critic2', learning_rate=0.02, project_path=project_path)\n",
    "\n",
    "print(test_critic2(test_state, test_action))\n",
    "for target_param, param in zip(test_critic2.parameters(), test_critic1.parameters()):\n",
    "    target_param.data.copy_(param.data)\n",
    "print(test_critic2(test_state, test_action))"
   ]
  },
  {
   "cell_type": "code",
   "execution_count": 66,
   "metadata": {},
   "outputs": [
    {
     "name": "stdout",
     "output_type": "stream",
     "text": [
      "tensor([[ 0.1522, -0.2019],\n",
      "        [ 0.0952,  0.1890],\n",
      "        [ 0.1467,  0.0804],\n",
      "        [ 0.0871, -0.1662],\n",
      "        [ 0.1609, -0.2308]], grad_fn=<AddmmBackward0>)\n",
      "tensor([[ 0.5998,  0.2954],\n",
      "        [ 0.5187,  0.1982],\n",
      "        [ 0.5648,  0.2736],\n",
      "        [ 0.9089,  0.0211],\n",
      "        [ 0.9021, -0.0899]], grad_fn=<AddmmBackward0>)\n"
     ]
    }
   ],
   "source": [
    "test_actor2= ActorNetwork(4, 2, (10, 15), (nn.ReLU(), nn.ReLU()), name='test_actor2', learning_rate=0.02, project_path=project_path)\n",
    "print(test_actor2(test_state))\n",
    "for target_param, param in zip(test_actor2.parameters(), test_actor1.parameters()):\n",
    "    target_param.data.copy_(param.data)\n",
    "print(test_actor2(test_state))"
   ]
  },
  {
   "cell_type": "markdown",
   "metadata": {},
   "source": [
    "Can learn to approximate values"
   ]
  },
  {
   "cell_type": "code",
   "execution_count": 67,
   "metadata": {},
   "outputs": [
    {
     "data": {
      "text/plain": [
       "(tensor([[0.7515],\n",
       "         [0.8123],\n",
       "         [0.4007],\n",
       "         [0.2289],\n",
       "         [0.4435]], grad_fn=<AddmmBackward0>),\n",
       " tensor([[0.7515],\n",
       "         [0.8123],\n",
       "         [0.4007],\n",
       "         [0.2289],\n",
       "         [0.4435]]))"
      ]
     },
     "execution_count": 67,
     "metadata": {},
     "output_type": "execute_result"
    }
   ],
   "source": [
    "y_train= T.rand((5, 1))\n",
    "epochs = 300\n",
    "for epoch in range(epochs):\n",
    "    y_pred = test_critic1(test_state, test_action)\n",
    "    loss = T.nn.MSELoss()(y_pred, y_train)\n",
    "    test_critic1.optimizer.zero_grad()\n",
    "    loss.backward()\n",
    "    test_critic1.optimizer.step()\n",
    "\n",
    "test_critic1(test_state, test_action), y_train"
   ]
  },
  {
   "cell_type": "code",
   "execution_count": 68,
   "metadata": {},
   "outputs": [
    {
     "data": {
      "text/plain": [
       "(tensor([[0.0381, 0.9804],\n",
       "         [0.9591, 0.0814],\n",
       "         [0.4551, 0.9332],\n",
       "         [0.8314, 0.5219],\n",
       "         [0.3607, 0.7818]], grad_fn=<AddmmBackward0>),\n",
       " tensor([[0.0381, 0.9804],\n",
       "         [0.9591, 0.0814],\n",
       "         [0.4551, 0.9332],\n",
       "         [0.8314, 0.5219],\n",
       "         [0.3607, 0.7818]]))"
      ]
     },
     "execution_count": 68,
     "metadata": {},
     "output_type": "execute_result"
    }
   ],
   "source": [
    "epochs = 300\n",
    "for epoch in range(epochs):\n",
    "    y_pred = test_actor1(test_state)\n",
    "    loss = T.nn.MSELoss()(y_pred, test_action)\n",
    "    test_actor1.optimizer.zero_grad()\n",
    "    loss.backward()\n",
    "    test_actor1.optimizer.step()\n",
    "\n",
    "test_actor1(test_state), test_action"
   ]
  }
 ],
 "metadata": {
  "kernelspec": {
   "display_name": "Python 3",
   "language": "python",
   "name": "python3"
  },
  "language_info": {
   "codemirror_mode": {
    "name": "ipython",
    "version": 3
   },
   "file_extension": ".py",
   "mimetype": "text/x-python",
   "name": "python",
   "nbconvert_exporter": "python",
   "pygments_lexer": "ipython3",
   "version": "3.12.1"
  }
 },
 "nbformat": 4,
 "nbformat_minor": 2
}
