{
 "cells": [
  {
   "cell_type": "code",
   "execution_count": 1,
   "metadata": {},
   "outputs": [],
   "source": [
    "import matplotlib.pyplot as plt\n",
    "from dataclasses import *\n",
    "import numpy as np\n",
    "import unittest \n",
    "import timeit\n",
    "import sys\n",
    "sys.path.insert(0, '/Users/niyi/Documents/GitHub/Optimal-Control/Code/Systems')\n",
    "sys.path.insert(1, '/Users/niyi/Documents/GitHub/Optimal-Control/Tools')\n",
    "from EnforceTyping import enforce_method_typing\n",
    "from ParticlesandFields import Field, ClassicalParticle, ParticleInField\n",
    "from MDPFramework import MDPEnvironment, MDPController, LearningAgent"
   ]
  },
  {
   "cell_type": "code",
   "execution_count": 2,
   "metadata": {},
   "outputs": [],
   "source": [
    "coulomb_constant = 8.9875e9  # N*m^2/C^2\n",
    "@dataclass(kw_only=True)\n",
    "class ElectrostaticField2D(Field):\n",
    "  \"\"\"\n",
    "  A class used to represent a 2D Electrostatic Field\n",
    "\n",
    "  Attributes\n",
    "  ----------\n",
    "  field_sources: dict\n",
    "      a formatted string to print out what the animal says\n",
    "  dimensionality: tuple\n",
    "      a tuple of the dimensionality of the field  \n",
    "\n",
    "  Methods\n",
    "  -------\n",
    "  dynamics(self, observation_position: np.ndarray, time: float) -> np.ndarray:\n",
    "      Represents the value of the field at any given point(s) or time. \n",
    "  potential(self, observation_position: np.ndarray, time: float) -> float:\n",
    "      Represents the potential due to the field at a given position and/or time  \n",
    "  potential_difference(self, initial_position: np.ndarray, final_position: np.ndarray, time: float) -> float:\n",
    "      Represents the potential difference between two positions at a given time in the vector field   \n",
    "  gradient(self, observation_position: np.ndarray, time: float) -> float:\n",
    "      Represents the gradient at a given position and/or time in the vector field \n",
    "  curl(self, observation_position: np.ndarray, time: float) -> float:\n",
    "      Represents the curl at a given position and/or time in the vector field \n",
    "  divergence(self, observation_position: np.ndarray, time: float) -> float:\n",
    "      Represents the divergence at a given position and/or time in the vector field\n",
    "  \"\"\"\n",
    "  field_sources: dict\n",
    "  domain: np.ndarray\n",
    "  dimensionality: tuple = (2,)\n",
    "  \n",
    "\n",
    "  def __call__(self, observation_position: np.ndarray) -> np.ndarray:\n",
    "      return self.dynamics(observation_position)\n",
    "\n",
    "  def __post_init__(self):\n",
    "    assert len(self.field_sources[\"Particle\"]) == len(self.field_sources[\"Position\"]), \"The length of particles and fields don't match\"\n",
    "    for field_source, _ in zip(self.field_sources[\"Particle\"], self.field_sources[\"Position\"]):\n",
    "        assert isinstance(field_source, ClassicalParticle),  \"The field source is not a particle\"\n",
    "    assert self.domain.shape == self.dimensionality +(2,), 'domain has wrong dimensions'\n",
    "\n",
    "  @enforce_method_typing\n",
    "  def dynamics(self, observation_position: np.ndarray) -> np.ndarray:\n",
    "      \"\"\"\n",
    "      This function outputs the field strength due to field sources experienced at any given point(s) or time. \n",
    "      This determines the physics of the field (a 2D Electricstatic Field in this case)\n",
    "\n",
    "      Args:\n",
    "          observation_position (np.ndarray): The position.\n",
    "\n",
    "      Returns:\n",
    "          np.ndarray: The electric field strength vector at the given position.\n",
    "      \"\"\"\n",
    "      electric_field_vector = np.zeros_like(observation_position)\n",
    "      for field_source, source_position in zip(self.field_sources[\"Particle\"], self.field_sources[\"Position\"]):\n",
    "          position_vectors = np.broadcast_to(source_position, reversed(observation_position.shape)).T\n",
    "          displacement_vectors = observation_position - position_vectors\n",
    "          displacement_magnitude = np.linalg.norm(displacement_vectors, axis=0)\n",
    "          electric_field_vector += (displacement_vectors * field_source.charge) / displacement_magnitude**3\n",
    "      electric_field_vector = coulomb_constant * electric_field_vector\n",
    "      return np.round(electric_field_vector, 3)  # N/C or V/m\n",
    "\n",
    "  @enforce_method_typing\n",
    "  def potential(self, observation_position: np.ndarray) -> float:\n",
    "      \"\"\"\n",
    "      Calculate the potential (voltage) at a position in the field.\n",
    "\n",
    "      Args:\n",
    "          observation_position (np.ndarray): The position.\n",
    "\n",
    "      Returns:\n",
    "          np.ndarray: The electric potential at the given position.\n",
    "      \"\"\"\n",
    "      electric_potential = 0.0\n",
    "      for field_source, source_position in zip(self.field_sources[\"Particle\"], self.field_sources[\"Position\"]):\n",
    "          position_vectors = np.broadcast_to(source_position, reversed(observation_position.shape)).T\n",
    "          displacement_vectors = observation_position - position_vectors\n",
    "          displacement_magnitude = np.linalg.norm(displacement_vectors, axis=0)\n",
    "          electric_potential += field_source.charge / displacement_magnitude\n",
    "      electric_potential = coulomb_constant * electric_potential\n",
    "      return np.round(electric_potential, 3)  # V\n",
    "\n",
    "  @enforce_method_typing\n",
    "  def potential_difference(self, initial_position: np.ndarray, final_position: np.ndarray) -> float:\n",
    "    \"\"\"\n",
    "    Calculate the potential difference between the initial position and the final position in the field.\n",
    "\n",
    "    Args:\n",
    "        initial_position (np.ndarray): The starting position.\n",
    "        final_position (np.ndarray): The ending position.\n",
    "        resolution (int, optional): The number of intervals to divide the path into. Defaults to 5000.\n",
    "\n",
    "    Returns:\n",
    "        float: The work required to move from the initial position to the final position.\n",
    "    \"\"\"\n",
    "    assert initial_position.shape == self.dimensionality, \"initial_position has the wrong dimensions\"\n",
    "    assert final_position.shape == self.dimensionality, \"final_position has the wrong dimensions\"\n",
    "    PorentialDifference= self.potential(initial_position)- self.potential(final_position)\n",
    "    return PorentialDifference\n",
    "\n",
    "  @enforce_method_typing\n",
    "  def gradient(self, observation_position: np.ndarray, delta: float= 0.001)->np.ndarray:\n",
    "    \"\"\"\n",
    "    This function returns the derivative of the field at a given point\n",
    "\n",
    "    Args:\n",
    "        observation_position (np.ndarray): The position.\n",
    "        delta (float, optional): The step size. Defaults to 0.001.\n",
    "\n",
    "    Returns: \n",
    "      np.ndarray: The gradient of the field at the given position.\n",
    "    \"\"\"\n",
    "    gradient= np.zeros_like(observation_position)\n",
    "    for i in range(len(observation_position)):\n",
    "      di= np.zeros_like(observation_position)\n",
    "      di[i, ] = di[i, ]+delta\n",
    "      plusdi= observation_position+ di\n",
    "      minusdi= observation_position- di\n",
    "      gradient[i]= (self.dynamics(plusdi)- self.dynamics(minusdi))[i]/ (2* delta)\n",
    "    return gradient\n",
    "\n",
    "  @enforce_method_typing\n",
    "  def plot_field(self, n_vectors= 50):\n",
    "    \"\"\"\n",
    "    This function plots the 2D electric vector field\n",
    "\n",
    "    Args:\n",
    "    low_bound (float, optional): The lower bound of the plot. Defaults to -5.\n",
    "    high_bound (float, optional): The upper bound of the plot. Defaults to 5.\n",
    "    n_vectors (int, optional): The number of vectors to plot. Defaults to 50.\n",
    "\n",
    "    \"\"\"\n",
    "    observation_position= np.meshgrid(np.linspace(self.domain[0][0], self.domain[0][1], n_vectors), \n",
    "                                    np.linspace(self.domain[1][0], self.domain[1][1], n_vectors))\n",
    "    observation_position= np.stack(observation_position)\n",
    "    xd, yd = self.dynamics(observation_position)\n",
    "    xd = xd / np.sqrt(xd**2 + yd**2)\n",
    "    yd = yd / np.sqrt(xd**2 + yd**2)\n",
    "    color_aara = np.sqrt(xd**2+ yd**2)\n",
    "    fig, ax = plt.subplots(1,1)\n",
    "    cp = ax.quiver(observation_position[0],observation_position[1],xd,yd,color_aara)\n",
    "    fig.colorbar(cp)\n",
    "    plt.rcParams['figure.dpi'] = 150\n",
    "    plt.show()\n",
    "    "
   ]
  },
  {
   "cell_type": "code",
   "execution_count": 3,
   "metadata": {},
   "outputs": [],
   "source": [
    "negative_charge= ClassicalParticle(mass=1e-11, charge= -1e-9)\n",
    "positive_charge= ClassicalParticle(mass=1e-11, charge= 1e-9)\n",
    "sources = {\"Particle\": [negative_charge, positive_charge],\n",
    "           \"Position\": [np.array([1.0, 1.0]), np.array([-1.0, 1.0])]}  #Update to accomodate charge density- a function that returns the charge at any point in the field"
   ]
  },
  {
   "cell_type": "code",
   "execution_count": 4,
   "metadata": {},
   "outputs": [],
   "source": [
    "test_electric_field= ElectrostaticField2D(field_sources=sources, domain= np.array([[-5.0, 5.0],\n",
    "                                                                                   [-5.0, 5.0]]))\n",
    "point_charge_in_electric_field= ParticleInField(field=test_electric_field, \n",
    "                                               particle=positive_charge, \n",
    "                                               target=np.array([0.0, 0.0]))"
   ]
  },
  {
   "cell_type": "code",
   "execution_count": 5,
   "metadata": {},
   "outputs": [
    {
     "name": "stderr",
     "output_type": "stream",
     "text": [
      "/Users/niyi/Documents/GitHub/Optimal-Control/Code/Systems/ParticlesandFields.py:131: ODEintWarning: Excess work done on this call (perhaps wrong Dfun type). Run with full_output = 1 to get quantitative information.\n",
      "  next_state_vector = integrate.odeint(self.state_dynamics, state.vector(), time_span, args=(control,))[-1]\n"
     ]
    },
    {
     "data": {
      "image/png": "[encoded data removed]",
      "text/plain": [
       "<Figure size 800x800 with 1 Axes>"
      ]
     },
     "metadata": {},
     "output_type": "display_data"
    },
    {
     "name": "stdout",
     "output_type": "stream",
     "text": [
      "-93016.34649630818\n"
     ]
    }
   ],
   "source": [
    "@dataclass\n",
    "class RandomPolicy:\n",
    "  action_dims: tuple\n",
    "  control_magnitude: float\n",
    "\n",
    "  def __call__(self, observation: np.ndarray):\n",
    "    return self.control_magnitude* (2*np.random.ranf(self.action_dims)-1)\n",
    "    \n",
    "@dataclass\n",
    "class RandomController(MDPController):\n",
    "  control_magnitude: float\n",
    "  \n",
    "  @property\n",
    "  def policy(self):\n",
    "    return RandomPolicy(action_dims=self.environment.action_dims, control_magnitude=self.control_magnitude)\n",
    "  \n",
    "  @enforce_method_typing\n",
    "  def act(self, observation: np.ndarray)-> np.ndarray:\n",
    "      action= self.policy(observation)\n",
    "      return action\n",
    "  \n",
    "  def observe(self, state)-> np.ndarray:\n",
    "    observation= state.vector()\n",
    "    return observation\n",
    "  \n",
    "  @enforce_method_typing\n",
    "  def sample_trajectory(self, runtime: float, n_steps: int=100):\n",
    "    trajectory= []\n",
    "    trajectory_return= 0.0\n",
    "    time= 0.0\n",
    "    state= self.environment.initial_state\n",
    "    time_interval= runtime/n_steps\n",
    "    time_span = np.linspace(time, runtime, n_steps)\n",
    "    for _ in time_span:\n",
    "        observation= self.observe(state)\n",
    "        trajectory.append(observation)\n",
    "        action= self.act(observation)\n",
    "        state, reward, _= self.environment.transition_step(state, action, time_interval)\n",
    "        trajectory_return += reward\n",
    "    return trajectory, trajectory_return\n",
    "  \n",
    "  def plot_trajectory(self, trajectory):\n",
    "    trajectory= np.array(trajectory)\n",
    "    px, py, vx, vy= trajectory.transpose()\n",
    "    plt.figure(figsize=(8, 8))\n",
    "    plt.plot(px, py, label='Trajectory')\n",
    "    plt.scatter(px[0], py[0], c='k', marker='o', label='Start')\n",
    "    plt.scatter(px[-1], py[-1], c='r', marker='*', label='End')\n",
    "    xmax= max(abs(px))\n",
    "    ymax= max(abs(py))\n",
    "    true_max= max((xmax, ymax))\n",
    "    plt.xlim(-2*true_max, 2*true_max)\n",
    "    plt.ylim(-2*true_max, 2*true_max)\n",
    "    plt.grid(True)\n",
    "    plt.legend()\n",
    "    plt.show()\n",
    "\n",
    "RandomWalker= RandomController(environment=point_charge_in_electric_field, control_magnitude=1e-9)\n",
    "test_trajectory, test_trajectory_return= RandomWalker.sample_trajectory(5.0)\n",
    "RandomWalker.plot_trajectory(test_trajectory)\n",
    "print(test_trajectory_return)"
   ]
  },
  {
   "cell_type": "markdown",
   "metadata": {},
   "source": [
    "**1. Unit tests**\n",
    "\n",
    "Unit tests are very low level and close to the source of an application. They consist in testing individual methods and functions of the classes, components, or modules used by your software. Unit tests are generally quite cheap to automate and can run very quickly by a continuous integration server.\n",
    "\n"
   ]
  },
  {
   "cell_type": "code",
   "execution_count": null,
   "metadata": {},
   "outputs": [],
   "source": [
    "position1= np.array([0., -1.])\n",
    "position2= np.array([0., 1.])\n",
    "\n",
    "test_electric_field_strength= test_electric_field(position1)\n",
    "test_electric_field_potential= test_electric_field.potential(position1)\n",
    "test_electric_field_potential_difference= test_electric_field.potential_difference(position1, position2)\n",
    "test_electric_field_gradient= test_electric_field.gradient(position1)\n",
    "test_electric_field.plot_field()\n",
    "\n",
    "test_electric_field_strength, test_electric_field_potential, test_electric_field_potential_difference, test_electric_field_gradient"
   ]
  },
  {
   "cell_type": "code",
   "execution_count": null,
   "metadata": {},
   "outputs": [],
   "source": [
    "test_state= point_charge_in_electric_field.random_state()\n",
    "test_next_state, reward, terminal_signal= point_charge_in_electric_field.transition_step(test_state)\n",
    "test_state, test_next_state, reward, terminal_signal\n",
    "state_trajectory, trajectory_return, time= point_charge_in_electric_field.sample_trajectory(5.0)\n",
    "point_charge_in_electric_field.plot_trajectory(state_trajectory, time)\n",
    "trajectory_return"
   ]
  },
  {
   "cell_type": "markdown",
   "metadata": {},
   "source": [
    "**2. Integration tests**\n",
    "\n",
    "Integration tests verify that different modules or services used by your application work well together. For example, it can be testing the interaction with the database or making sure that microservices work together as expected. These types of tests are more expensive to run as they require multiple parts of the application to be up and running.\n",
    "\n"
   ]
  },
  {
   "cell_type": "code",
   "execution_count": null,
   "metadata": {},
   "outputs": [],
   "source": [
    "test_state= point_charge_in_electric_field.random_state()\n",
    "test_next_state, reward, terminal_signal= point_charge_in_electric_field.transition_step(test_state)\n",
    "test_state, test_next_state, reward, terminal_signal\n",
    "state_trajectory, trajectory_return, time= point_charge_in_electric_field.sample_trajectory(5.0)\n",
    "point_charge_in_electric_field.plot_trajectory(state_trajectory, time)\n",
    "trajectory_return"
   ]
  },
  {
   "cell_type": "markdown",
   "metadata": {},
   "source": [
    "**3. Functional tests**\n",
    "Functional tests are performed to check if this module functions as intended.They only verify the output of an action and do not check the intermediate states of the system when performing that action. "
   ]
  },
  {
   "cell_type": "code",
   "execution_count": null,
   "metadata": {},
   "outputs": [],
   "source": [
    "test_electric_field_strength1= test_electric_field(position1)\n",
    "test_electric_field_strength2= test_electric_field(position1)\n",
    " \n",
    "assert test_electric_field_strength1.all() ==-1* test_electric_field_strength2.all()"
   ]
  },
  {
   "cell_type": "markdown",
   "metadata": {},
   "source": [
    "**4. Performance testing**\n",
    "Performance tests help to measure the reliability, speed, scalability, and responsiveness of an application. "
   ]
  },
  {
   "cell_type": "code",
   "execution_count": null,
   "metadata": {},
   "outputs": [],
   "source": [
    "\n",
    "def test_performance(function_to_test):\n",
    "  execution_time = timeit.timeit(function_to_test, number=100)\n",
    "  print(f\"Average execution time: {execution_time / 100} seconds\")"
   ]
  }
 ],
 "metadata": {
  "kernelspec": {
   "display_name": "Python 3",
   "language": "python",
   "name": "python3"
  },
  "language_info": {
   "codemirror_mode": {
    "name": "ipython",
    "version": 3
   },
   "file_extension": ".py",
   "mimetype": "text/x-python",
   "name": "python",
   "nbconvert_exporter": "python",
   "pygments_lexer": "ipython3",
   "version": "3.12.1"
  }
 },
 "nbformat": 4,
 "nbformat_minor": 2
}
