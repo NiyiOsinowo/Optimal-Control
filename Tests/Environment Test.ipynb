{
 "cells": [
  {
   "cell_type": "code",
   "execution_count": 12,
   "metadata": {},
   "outputs": [],
   "source": [
    "'''This repository contains a detailed implementation of the Reinforcement Learning Enviroment class'''\n",
    "import matplotlib.pyplot as plt\n",
    "import numpy as np\n",
    "from dataclasses import *\n",
    "import torch as T\n",
    "import torch.nn as nn\n",
    "import torch.nn.functional as F\n",
    "import torch.optim as optim\n",
    "from typing import Any, Callable, Dict, List, Tuple, Union, Optional\n",
    "from functools import wraps\n",
    "import os\n",
    "import random\n",
    "from abc import ABC, abstractmethod\n",
    "from collections import deque, namedtuple\n",
    "import scipy.integrate as integrate\n",
    "import scipy.optimize as optimize\n",
    "T.Tensor.ndim = property(lambda self: len(self.shape))\n",
    "from EnforceTyping import EnforceClassTyping, EnforceFunctionTyping, EnforceMethodTyping\n",
    "from ParticlesandFields import Particle, Field"
   ]
  },
  {
   "cell_type": "markdown",
   "metadata": {},
   "source": [
    "**Ornstein Uhlenbeck Noise**"
   ]
  },
  {
   "cell_type": "code",
   "execution_count": 13,
   "metadata": {},
   "outputs": [],
   "source": [
    "class OUActionNoise:\n",
    "    def __init__(self, mu, sigma=0.15, theta=.2, dt=1e-2, x0=None):\n",
    "        self.theta = theta\n",
    "        self.mu = mu\n",
    "        self.sigma = sigma\n",
    "        self.dt = dt\n",
    "        self.x0 = x0\n",
    "        self.reset()\n",
    "\n",
    "    def __call__(self):\n",
    "        x = self.x_prev + self.theta * (self.mu - self.x_prev) * self.dt + \\\n",
    "            self.sigma * np.sqrt(self.dt) * np.random.normal(size=self.mu.shape)\n",
    "        self.x_prev = x\n",
    "        return x\n",
    "\n",
    "    def reset(self):\n",
    "        self.x_prev = self.x0 if self.x0 is not None else np.zeros_like(self.mu)\n",
    "\n",
    "    def __repr__(self):\n",
    "        return 'OrnsteinUhlenbeckActionNoise(mu={}, sigma={})'.format(\n",
    "                                                            self.mu, self.sigma)\n",
    " "
   ]
  },
  {
   "cell_type": "markdown",
   "metadata": {},
   "source": [
    "**Particle Test**"
   ]
  },
  {
   "cell_type": "code",
   "execution_count": 14,
   "metadata": {},
   "outputs": [],
   "source": [
    "NegativeCharge= Particle(Mass=1.0, Charge= -1e-5)\n",
    "PositiveCharge= Particle(Mass=10.0, Charge= 1e-5)\n",
    "Sources = {\"Particle\": [NegativeCharge],\n",
    "          \"Position\": [T.tensor([1.0, 1.0])]}"
   ]
  },
  {
   "cell_type": "markdown",
   "metadata": {},
   "source": [
    "**Vector Field**"
   ]
  },
  {
   "cell_type": "code",
   "execution_count": 15,
   "metadata": {},
   "outputs": [],
   "source": [
    "@dataclass(kw_only= True)\n",
    "class ElectricField(Field):\n",
    "  FieldSources: Dict\n",
    "\n",
    "  def __call__(self, ObservationPosition: T.Tensor)->T.Tensor:\n",
    "      return self.FieldStrength(ObservationPosition)\n",
    "  @EnforceMethodTyping\n",
    "  def FieldStrength(self, ObservationPosition: T.Tensor)->T.Tensor:\n",
    "    'This function takes a list of sources and outputs the field strength experienced at any given point(s). This determines the physics of the field(an electric field in this case)'\n",
    "    CoulombConstant = 8.9875e9 #N*m^2/C^2\n",
    "    assert len(self.FieldSources[\"Particle\"]) == len(self.FieldSources[\"Position\"]), \"The length of particles and fields don't match\"\n",
    "    for FieldSource, _ in zip(self.FieldSources[\"Particle\"], self.FieldSources[\"Position\"]):\n",
    "      assert isinstance(FieldSource, Particle),  \"The FieldSource is not a Particle\"\n",
    "    ElectricFieldVector = T.zeros_like(ObservationPosition)\n",
    "    for FieldSource, SourcePosition in zip(self.FieldSources[\"Particle\"], self.FieldSources[\"Position\"]):\n",
    "      PositionMatrices= T.stack([T.ones_like(ObservationPosition[0])* SourcePosition[0].item(), \n",
    "                                T.ones_like(ObservationPosition[1])* SourcePosition[1].item()])\n",
    "      DisplacementVector = ObservationPosition - PositionMatrices\n",
    "      DisplacementMagnitude = T.sqrt(DisplacementVector[0]**2 +DisplacementVector[1]**2)\n",
    "      ElectricFieldVector += (DisplacementVector * FieldSource.Charge) / DisplacementMagnitude**2\n",
    "    return CoulombConstant * ElectricFieldVector #N/C or V/m\n",
    "  @EnforceMethodTyping\n",
    "  def FieldPotential(self, InitialPosition: T.Tensor, FinalPosition: T.Tensor, resolution: int= 5000)-> float:\n",
    "      '''This method determines the amount of work required to get one position to another in the field'''\n",
    "      XInterval= (FinalPosition[0] - InitialPosition[0]) / resolution\n",
    "      YInterval= (FinalPosition[1] - InitialPosition[1]) / resolution\n",
    "      XPositions = [InitialPosition[0] + i * XInterval for i in range(resolution + 1)]\n",
    "      YPositions = [InitialPosition[1] + i * YInterval for i in range(resolution + 1)]\n",
    "      WorkDone = 0\n",
    "      for i in range(resolution):\n",
    "          PositionFieldStrength = self.FieldStrength(T.Tensor([XPositions[i], YPositions[i]]))\n",
    "          WorkDone += - (PositionFieldStrength[0]*XInterval + PositionFieldStrength[1]*YInterval)\n",
    "      return WorkDone\n",
    "  @EnforceMethodTyping\n",
    "  def PlotField(self):\n",
    "      'This funtion plots the 2D electric vector field'\n",
    "      ObservationPosition= T.meshgrid(T.linspace(self.FieldLowBound, self.FieldHighBound, 50), \n",
    "                                      T.linspace(self.FieldLowBound, self.FieldHighBound, 50))\n",
    "      ObservationPosition= T.stack(ObservationPosition)\n",
    "      xd, yd = self.ElectricFieldStrength(ObservationPosition)\n",
    "      xd = xd / T.sqrt(xd**2 + yd**2)\n",
    "      yd = yd / T.sqrt(xd**2 + yd**2)\n",
    "      color_aara = T.sqrt(xd**2+ yd**2)\n",
    "      fig, ax = plt.subplots(1,1)\n",
    "      cp = ax.quiver(ObservationPosition[0],ObservationPosition[1],xd,yd,color_aara)\n",
    "      fig.colorbar(cp)\n",
    "      plt.rcParams['figure.dpi'] = 250\n",
    "      plt.show()\n",
    "  def Derivative(self, ObservationPosition):\n",
    "    'This function returns the derivative of the field at a given point'\n",
    "    CoulombConstant = 8.9875e9 #N*m^2/C^2\n",
    "    assert len(self.FieldSources[\"Particle\"]) == len(self.FieldSources[\"Position\"]), \"The length of particles and fields don't match\"\n",
    "    for FieldSource, _ in zip(self.FieldSources[\"Particle\"], self.FieldSources[\"Position\"]):\n",
    "      assert isinstance(FieldSource, Particle),  \"The FieldSource is not a Particle\"\n",
    "    ElectricFieldVector = T.zeros_like(ObservationPosition)\n",
    "    for FieldSource, SourcePosition in zip(self.FieldSources[\"Particle\"], self.FieldSources[\"Position\"]):\n",
    "      PositionMatrices= T.stack([T.ones_like(ObservationPosition[0])* SourcePosition[0].item(), \n",
    "                                T.ones_like(ObservationPosition[1])* SourcePosition[1].item()])\n",
    "      DisplacementVector = ObservationPosition - PositionMatrices\n",
    "      DisplacementMagnitude = T.sqrt(DisplacementVector[0]**2 +DisplacementVector[1]**2)\n",
    "      ElectricFieldVector += (DisplacementVector * FieldSource.Charge) / DisplacementMagnitude**1.5\n",
    "    return -CoulombConstant * ElectricFieldVector"
   ]
  },
  {
   "cell_type": "markdown",
   "metadata": {},
   "source": [
    "**Vector Field Test**"
   ]
  },
  {
   "cell_type": "code",
   "execution_count": 16,
   "metadata": {},
   "outputs": [],
   "source": [
    "TestElectricField= ElectricField(FieldSources=Sources)\n"
   ]
  },
  {
   "cell_type": "code",
   "execution_count": 18,
   "metadata": {},
   "outputs": [],
   "source": [
    "@dataclass(kw_only=True)\n",
    "class Environment(ABC):  \n",
    "\n",
    "  class State:\n",
    "      pass\n",
    "  InitialState: State \n",
    "  CurrentState: State \n",
    "\n",
    "  @abstractmethod\n",
    "  def TransitionModel(self, State: State, Action)-> State:\n",
    "      ...\n",
    "\n",
    "  @abstractmethod\n",
    "  def RewardModel(self, State: State, Action, NextState: State, TerminalSignal: bool)-> float:\n",
    "      '''This is a scalar performance metric.'''\n",
    "      ...\n",
    "\n",
    "  @abstractmethod\n",
    "  def IsTerminalCondition(self, State: State)-> bool:\n",
    "      ...\n",
    "\n",
    "  @abstractmethod\n",
    "  def StateTransition(self, State: State, Action)-> tuple[float, State, bool]:\n",
    "      ...\n",
    "\n",
    "  @abstractmethod\n",
    "  def SampleTrajectory(self, RunDuration: float)-> list[State]:\n",
    "      ...\n",
    "  @abstractmethod\n",
    "  def TrajectoryValue(self, Trajectory: list[State])-> float:\n",
    "      ...\n",
    "  @abstractmethod\n",
    "  def Reset(self):\n",
    "      ..."
   ]
  },
  {
   "cell_type": "markdown",
   "metadata": {},
   "source": [
    "**Environment**"
   ]
  },
  {
   "cell_type": "code",
   "execution_count": 19,
   "metadata": {},
   "outputs": [],
   "source": [
    "@dataclass(kw_only=True)\n",
    "class ParticleInField(Environment): \n",
    "  Field: Field\n",
    "  ChargedParticle: Particle\n",
    "  Target: T.Tensor\n",
    "  DistanceWeight: float= 1.0\n",
    "  EnergyWeight: float= -1.0\n",
    "  TerminalSignalWeight: float= -1000.0\n",
    "  CurrentTime: float = 0.0# s\n",
    "  @dataclass \n",
    "  class State(EnforceClassTyping):\n",
    "    '''This class represents the state of the Agent with its Position, Velocity and the Field Strength if experiences at its Position. \n",
    "    These are parameters the agent is able to observe, they uniquely define the state of the agent.'''\n",
    "    Position: T.Tensor # m\n",
    "    Velocity: T.Tensor #kg*m/s\n",
    "    \n",
    "    def Vector(self):\n",
    "      return T.cat([self.Position, self.Velocity])\n",
    "  InitialState: State = None\n",
    "  CurrentState: State = None\n",
    "  def __post_init__(self):\n",
    "    if self.InitialState is None:\n",
    "        self.InitialState= self.RandomState()\n",
    "    self.CurrentState= self.InitialState\n",
    "\n",
    "  def StateDynamics(self, State: T.Tensor, Time: float, ControlForce: T.Tensor):\n",
    "    dxPosition, dyPosition = State[2], State[3]\n",
    "    Position= T.tensor([State[0], State[1]])\n",
    "    dxVelocity, dyVelocity = ((self.ChargedParticle.Charge* self.Field(Position))+ControlForce)/self.ChargedParticle.Mass\n",
    "\n",
    "    return np.array([dxPosition, dyPosition, dxVelocity, dyVelocity])\n",
    "  \n",
    "  @EnforceMethodTyping\n",
    "  def TransitionModel(self, State: State, Action: T.Tensor= T.tensor([0.0, 0.0]), TimeInterval:float= 1.0)-> State:\n",
    "    '''Outputs the state of the system after taking an action(applying a constant force for *TimeInterval* seconds)'''\n",
    "    Posx, Posy, Velx, Vely= integrate.odeint(self.StateDynamics, State.Vector(), [self.CurrentTime, self.CurrentTime+ TimeInterval], args=(Action,))[-1]\n",
    "    CurrrentPosition= T.tensor([Posx, Posy])\n",
    "    CurrentVelocity= T.tensor([Velx, Vely])\n",
    "    return self.State(CurrrentPosition, CurrentVelocity)\n",
    "  \n",
    "  def RewardModel(self, State: State, Action: T.Tensor, NextState: State, TerminalSignal: bool)-> float:\n",
    "      '''This method determines how the agent is rewarded given a state transition. The reward determines the behaviour the agent should learn(i.e getting to the target and using the least amount of energy).'''\n",
    "      DistanceGainedFromTarget= T.norm(State.Position-self.Target)- T.norm(NextState.Position-self.Target) \n",
    "      EnergyConsumed= self.ChargedParticle.Charge* self.Field.FieldPotential(State.Position, NextState.Position)\n",
    "      Cost= self.DistanceWeight* DistanceGainedFromTarget+ self.EnergyWeight* EnergyConsumed+ self.TerminalSignalWeight* TerminalSignal\n",
    "      return Cost.item()\n",
    "  \n",
    "  @EnforceMethodTyping\n",
    "  def IsTerminalCondition(self, State: State)-> bool:\n",
    "      '''This method determines if the state is within the viable learning region of the environment: Constraints'''\n",
    "      WithinXBound= -10. <= State.Position[0] <= 10.\n",
    "      WithinYBound= -10. <= State.Position[1] <= 10. \n",
    "      WithinVelocityBound= T.norm(State.Velocity) < 10. \n",
    "      if WithinXBound and WithinYBound and WithinVelocityBound: \n",
    "          return False    \n",
    "      else:\n",
    "          return True\n",
    "  \n",
    "  def StateTransition(self, State: State= CurrentState, Action: T.Tensor= T.tensor([0.0, 0.0]), TimeInterval: float= 1.0):\n",
    "      'Outputs the state of the system after taking an action, the reward ocurring from the transition and the terminal signal'\n",
    "      NextState= self.TransitionModel(State, Action, TimeInterval=TimeInterval)\n",
    "      TerminalSignal= self.IsTerminalCondition(NextState) \n",
    "      Reward= self.RewardModel(State, Action, NextState, TerminalSignal)\n",
    "      return NextState, Reward, TerminalSignal\n",
    "  \n",
    "  @EnforceMethodTyping\n",
    "  def RandomState(self)->State:\n",
    "      '''This method generates a random state within the viable learning region'''\n",
    "      RandomPosition= T.tensor([np.random.uniform(-10., 10.), \n",
    "                                np.random.uniform(-10., 10.)])\n",
    "      RandomVelocity= T.zeros_like(RandomPosition)\n",
    "      return self.State(RandomPosition, RandomVelocity)\n",
    "\n",
    "  def SampleTrajectory(self, RunDuration: float, Policy: Optional[Callable]= None, TimeStep: int=0.1):\n",
    "    Time= [0]\n",
    "    State= self.CurrentState\n",
    "    StateTrajectory= []\n",
    "    ActionTrajectory= []\n",
    "    while Time[-1]<RunDuration: \n",
    "      StateTrajectory.append(State)\n",
    "      if Policy is Callable:\n",
    "        Action = Policy(State)\n",
    "      else:\n",
    "          Action = T.randn(2)\n",
    "      ActionTrajectory.append(Action)\n",
    "      State= self.TransitionModel(State, Action, TimeInterval= TimeStep) \n",
    "      Time.append(Time[-1]+TimeStep) \n",
    "    return StateTrajectory, ActionTrajectory, Time\n",
    "\n",
    "  def PlotTrajectory(self, StateTrajectory, Time): \n",
    "      PositionPath= [State.Position for State in StateTrajectory]\n",
    "      VelocityPath= [State.Velocity for State in StateTrajectory]\n",
    "      PositionTrajectory= T.stack(PositionPath).transpose(dim0=0, dim1=1)\n",
    "      VelocityTrajectory= T.stack(VelocityPath).transpose(dim0=0, dim1=1)\n",
    "      plt.plot(PositionTrajectory[0], PositionTrajectory[1])\n",
    "      plt.plot(PositionTrajectory[0][0], PositionTrajectory[1][0], 'ko')\n",
    "      plt.plot(PositionTrajectory[0][-1], PositionTrajectory[1][-1], 'r*')\n",
    "      plt.xlim(-10,10)\n",
    "      plt.ylim(-10,10)\n",
    "      plt.grid(True)\n",
    "      plt.show()\n",
    "\n",
    "  def TrajectoryValue(self, StateTrajectory: list[State], ActionTrajectory, Time)-> float:\n",
    "      Value= 0\n",
    "      TimeInterval= (Time[-1]-Time[0])/len(Time)\n",
    "      for State, Action in zip(StateTrajectory, ActionTrajectory):\n",
    "         Value= Value+ (T.norm(State.Position-self.Target)+T.norm(Action))* TimeInterval\n",
    "      return Value\n",
    "  \n",
    "  def Reset(self):\n",
    "      self.CurrentState= self.InitialState\n",
    "      self.CurrentTime= 0.0\n"
   ]
  },
  {
   "cell_type": "markdown",
   "metadata": {},
   "source": [
    "**Environment Test**"
   ]
  },
  {
   "cell_type": "code",
   "execution_count": 20,
   "metadata": {},
   "outputs": [],
   "source": [
    "PositiveChargeInElectricField= ParticleInField(Field=TestElectricField, ChargedParticle=PositiveCharge, Target=T.tensor([0.0, 0.0]))\n"
   ]
  },
  {
   "cell_type": "code",
   "execution_count": 21,
   "metadata": {},
   "outputs": [
    {
     "data": {
      "image/png": "[encoded data removed]",
      "text/plain": [
       "<Figure size 640x480 with 1 Axes>"
      ]
     },
     "metadata": {},
     "output_type": "display_data"
    },
    {
     "data": {
      "text/plain": [
       "tensor(580.2450, dtype=torch.float64)"
      ]
     },
     "execution_count": 21,
     "metadata": {},
     "output_type": "execute_result"
    }
   ],
   "source": [
    "StateTrajectory, ActionTrajectory, Time= PositiveChargeInElectricField.SampleTrajectory(50)\n",
    "Return= PositiveChargeInElectricField.TrajectoryValue(StateTrajectory, ActionTrajectory, Time)\n",
    "PositiveChargeInElectricField.PlotTrajectory(StateTrajectory, Time)\n",
    "Return"
   ]
  }
 ],
 "metadata": {
  "kernelspec": {
   "display_name": "Python 3",
   "language": "python",
   "name": "python3"
  },
  "language_info": {
   "codemirror_mode": {
    "name": "ipython",
    "version": 3
   },
   "file_extension": ".py",
   "mimetype": "text/x-python",
   "name": "python",
   "nbconvert_exporter": "python",
   "pygments_lexer": "ipython3",
   "version": "3.12.1"
  }
 },
 "nbformat": 4,
 "nbformat_minor": 2
}
