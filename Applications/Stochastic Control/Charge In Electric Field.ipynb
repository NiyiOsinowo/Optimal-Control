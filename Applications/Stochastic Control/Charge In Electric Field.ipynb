{
 "cells": [
  {
   "cell_type": "markdown",
   "metadata": {},
   "source": [
    "The controller periodically decides the best action to take and this action will persist until the next control is administered"
   ]
  },
  {
   "cell_type": "code",
   "execution_count": 1,
   "metadata": {},
   "outputs": [
    {
     "name": "stdout",
     "output_type": "stream",
     "text": [
      "/Users/niyi/Documents/GitHub/Optimal-Control/Applications\n"
     ]
    }
   ],
   "source": [
    "import matplotlib.pyplot as plt # data plotting\n",
    "import numpy as np # linear algebra\n",
    "from dataclasses import *\n",
    "import torch as T\n",
    "import torch.nn as nn\n",
    "import os\n",
    "project_path= os.path.dirname(os.path.dirname(os.path.abspath(os.curdir)))\n",
    "import sys\n",
    "sys.path.insert(0, project_path+ '/Tools')\n",
    "sys.path.insert(1, project_path+ '/Optimal Control Methods/Learning Methods/Model Free RL')\n",
    "sys.path.insert(2, project_path+ '/Systems')\n",
    "from EnforceTyping import enforce_method_typing\n",
    "from ParticlesandFields import Field, ClassicalParticle, ParticleInField\n",
    "from DDPG import DDPGAgent, DDPGAlgorithm"
   ]
  },
  {
   "cell_type": "markdown",
   "metadata": {},
   "source": [
    "**Vector Field**"
   ]
  },
  {
   "cell_type": "code",
   "execution_count": 2,
   "metadata": {},
   "outputs": [],
   "source": [
    "coulomb_constant = 8.9875e9  # N*m^2/C^2\n",
    "@dataclass(kw_only=True)\n",
    "class ElectrostaticField2D(Field):\n",
    "  \"\"\"\n",
    "  A class used to represent a 2D Electrostatic Field\n",
    "\n",
    "  Attributes\n",
    "  ----------\n",
    "  field_sources: dict\n",
    "      a formatted string to print out what the animal says\n",
    "  dimensionality: tuple\n",
    "      a tuple of the dimensionality of the field  \n",
    "\n",
    "  Methods\n",
    "  -------\n",
    "  dynamics(self, observation_position: np.ndarray, time: float) -> np.ndarray:\n",
    "      Represents the value of the field at any given point(s) or time. \n",
    "  potential(self, observation_position: np.ndarray, time: float) -> float:\n",
    "      Represents the potential due to the field at a given position and/or time  \n",
    "  potential_difference(self, initial_position: np.ndarray, final_position: np.ndarray, time: float) -> float:\n",
    "      Represents the potential difference between two positions at a given time in the vector field   \n",
    "  gradient(self, observation_position: np.ndarray, time: float) -> float:\n",
    "      Represents the gradient at a given position and/or time in the vector field \n",
    "  curl(self, observation_position: np.ndarray, time: float) -> float:\n",
    "      Represents the curl at a given position and/or time in the vector field \n",
    "  divergence(self, observation_position: np.ndarray, time: float) -> float:\n",
    "      Represents the divergence at a given position and/or time in the vector field\n",
    "  \"\"\"\n",
    "  field_sources: dict\n",
    "  dimensionality: tuple = (2,)\n",
    "\n",
    "  def __call__(self, observation_position: np.ndarray) -> np.ndarray:\n",
    "      return self.dynamics(observation_position)\n",
    "\n",
    "  def __post_init__(self):\n",
    "    assert len(self.field_sources[\"Particle\"]) == len(self.field_sources[\"Position\"]), \"The length of particles and fields don't match\"\n",
    "    for field_source, _ in zip(self.field_sources[\"Particle\"], self.field_sources[\"Position\"]):\n",
    "        assert isinstance(field_source, ClassicalParticle),  \"The field source is not a particle\" \n",
    "\n",
    "  @enforce_method_typing\n",
    "  def dynamics(self, observation_position: np.ndarray) -> np.ndarray:\n",
    "      \"\"\"\n",
    "      This function outputs the field strength due to field sources experienced at any given point(s) or time. \n",
    "      This determines the physics of the field (a 2D Electricstatic Field in this case)\n",
    "\n",
    "      Args:\n",
    "          observation_position (np.ndarray): The position.\n",
    "\n",
    "      Returns:\n",
    "          np.ndarray: The electric field strength vector at the given position.\n",
    "      \"\"\"\n",
    "      electric_field_vector = np.zeros_like(observation_position)\n",
    "      for field_source, source_position in zip(self.field_sources[\"Particle\"], self.field_sources[\"Position\"]):\n",
    "          position_vectors = np.broadcast_to(source_position, reversed(observation_position.shape)).T\n",
    "          displacement_vectors = observation_position - position_vectors\n",
    "          displacement_magnitude = np.linalg.norm(displacement_vectors, axis=0)\n",
    "          electric_field_vector += (displacement_vectors * field_source.charge) / displacement_magnitude**3\n",
    "      electric_field_vector = coulomb_constant * electric_field_vector\n",
    "      return np.round(electric_field_vector, 3)  # N/C or V/m\n",
    "\n",
    "  @enforce_method_typing\n",
    "  def potential(self, observation_position: np.ndarray) -> float:\n",
    "      \"\"\"\n",
    "      Calculate the potential (voltage) at a position in the field.\n",
    "\n",
    "      Args:\n",
    "          observation_position (np.ndarray): The position.\n",
    "\n",
    "      Returns:\n",
    "          np.ndarray: The electric potential at the given position.\n",
    "      \"\"\"\n",
    "      electric_potential = 0.0\n",
    "      for field_source, source_position in zip(self.field_sources[\"Particle\"], self.field_sources[\"Position\"]):\n",
    "          position_vectors = np.broadcast_to(source_position, reversed(observation_position.shape)).T\n",
    "          displacement_vectors = observation_position - position_vectors\n",
    "          displacement_magnitude = np.linalg.norm(displacement_vectors, axis=0)\n",
    "          electric_potential += field_source.charge / displacement_magnitude\n",
    "      electric_potential = coulomb_constant * electric_potential\n",
    "      return np.round(electric_potential, 3)  # V\n",
    "\n",
    "  @enforce_method_typing\n",
    "  def potential_difference(self, initial_position: np.ndarray, final_position: np.ndarray) -> float:\n",
    "    \"\"\"\n",
    "    Calculate the potential difference between the initial position and the final position in the field.\n",
    "\n",
    "    Args:\n",
    "        initial_position (np.ndarray): The starting position.\n",
    "        final_position (np.ndarray): The ending position.\n",
    "        resolution (int, optional): The number of intervals to divide the path into. Defaults to 5000.\n",
    "\n",
    "    Returns:\n",
    "        float: The work required to move from the initial position to the final position.\n",
    "    \"\"\"\n",
    "    assert initial_position.shape == self.dimensionality, \"initial_position has the wrong dimensions\"\n",
    "    assert final_position.shape == self.dimensionality, \"final_position has the wrong dimensions\"\n",
    "    PorentialDifference= self.potential(initial_position)- self.potential(final_position)\n",
    "    return PorentialDifference\n",
    "\n",
    "  @enforce_method_typing\n",
    "  def gradient(self, observation_position: np.ndarray, delta: float= 0.001)->np.ndarray:\n",
    "    \"\"\"\n",
    "    This function returns the derivative of the field at a given point\n",
    "\n",
    "    Args:\n",
    "        observation_position (np.ndarray): The position.\n",
    "        delta (float, optional): The step size. Defaults to 0.001.\n",
    "\n",
    "    Returns: \n",
    "      np.ndarray: The gradient of the field at the given position.\n",
    "    \"\"\"\n",
    "    gradient= np.zeros_like(observation_position)\n",
    "    for i in range(len(observation_position)):\n",
    "      di= np.zeros_like(observation_position)\n",
    "      di[i, ] = di[i, ]+delta\n",
    "      plusdi= observation_position+ di\n",
    "      minusdi= observation_position- di\n",
    "      gradient[i]= (self.dynamics(plusdi)- self.dynamics(minusdi))[i]/ (2* delta)\n",
    "    return gradient\n",
    "\n",
    "  @enforce_method_typing\n",
    "  def plot_field(self, low_bound= -5, high_bound= 5, n_vectors= 50):\n",
    "    \"\"\"\n",
    "    This function plots the 2D electric vector field\n",
    "\n",
    "    Args:\n",
    "    low_bound (float, optional): The lower bound of the plot. Defaults to -5.\n",
    "    high_bound (float, optional): The upper bound of the plot. Defaults to 5.\n",
    "    n_vectors (int, optional): The number of vectors to plot. Defaults to 50.\n",
    "\n",
    "    \"\"\"\n",
    "    observation_position= np.meshgrid(np.linspace(low_bound, high_bound, n_vectors), \n",
    "                                    np.linspace(low_bound, high_bound, n_vectors))\n",
    "    observation_position= np.stack(observation_position)\n",
    "    xd, yd = self.dynamics(observation_position)\n",
    "    xd = xd / np.sqrt(xd**2 + yd**2)\n",
    "    yd = yd / np.sqrt(xd**2 + yd**2)\n",
    "    color_aara = np.sqrt(xd**2+ yd**2)\n",
    "    fig, ax = plt.subplots(1,1)\n",
    "    cp = ax.quiver(observation_position[0],observation_position[1],xd,yd,color_aara)\n",
    "    fig.colorbar(cp)\n",
    "    plt.rcParams['figure.dpi'] = 150\n",
    "    plt.show()\n",
    "    "
   ]
  },
  {
   "cell_type": "code",
   "execution_count": 3,
   "metadata": {},
   "outputs": [],
   "source": [
    "negative_charge= ClassicalParticle(mass=1.0, charge= -1e-5)\n",
    "positive_charge= ClassicalParticle(mass=1.0, charge= 1e-5)\n",
    "sources = {\"Particle\": [negative_charge],\n",
    "           \"Position\": [np.array([0.0, .0])]} \n",
    "\n",
    "test_electric_field= ElectrostaticField2D(field_sources=sources)\n",
    "point_charge_in_electric_field= ParticleInField(field=test_electric_field, \n",
    "                                               particle=negative_charge, \n",
    "                                               target_position=np.array([-1.0, 0.0]), \n",
    "                                               initial_state=ParticleInField.State(np.array([1.0, 0.0]), \n",
    "                                                                                   np.array([0.0, 0.0])))"
   ]
  },
  {
   "cell_type": "code",
   "execution_count": 4,
   "metadata": {},
   "outputs": [],
   "source": [
    "test_actor_layer= (10, 5)\n",
    "test_critic_layer= (10, 5)\n",
    "test_actor_activations= (nn.ReLU(), nn.ReLU())\n",
    "test_critic_activations= (nn.ReLU(), nn.ReLU())\n",
    "observation_size= 4\n",
    "action_size= 2\n",
    "actor_learning_rate= 0.01\n",
    "critic_learning_rate= 0.01\n",
    "soft_update_rate=0.01\n",
    "control_interval=0.5\n",
    "control_magnitude=10.0\n",
    "test_agent = DDPGAgent(environment=point_charge_in_electric_field,\n",
    "                       actor_layers=test_actor_layer, \n",
    "                       critic_layers=test_critic_layer,\n",
    "                       actor_activations= test_actor_activations,\n",
    "                       critic_activations= test_critic_activations,\n",
    "                       observation_size= observation_size,\n",
    "                       action_size= action_size,\n",
    "                       actor_learning_rate= actor_learning_rate,\n",
    "                       critic_learning_rate= critic_learning_rate,\n",
    "                       soft_update_rate= soft_update_rate,\n",
    "                       control_interval= control_interval,\n",
    "                       control_magnitude= control_magnitude)"
   ]
  },
  {
   "cell_type": "code",
   "execution_count": 5,
   "metadata": {},
   "outputs": [
    {
     "name": "stdout",
     "output_type": "stream",
     "text": [
      "... saving checkpoint ...\n",
      "... saving checkpoint ...\n",
      "... saving checkpoint ...\n",
      "... saving checkpoint ...\n"
     ]
    },
    {
     "data": {
      "image/png": "[encoded data removed]",
      "text/plain": [
       "<Figure size 640x480 with 1 Axes>"
      ]
     },
     "metadata": {},
     "output_type": "display_data"
    }
   ],
   "source": [
    "# test_agent.critic.load_checkpoint()\n",
    "# test_agent.actor.load_checkpoint()\n",
    "# test_agent.target_critic.load_checkpoint()\n",
    "# test_agent.target_actor.load_checkpoint()\n",
    "returns= DDPGAlgorithm(point_charge_in_electric_field, test_agent, 100, 150)"
   ]
  },
  {
   "cell_type": "code",
   "execution_count": 6,
   "metadata": {},
   "outputs": [
    {
     "data": {
      "image/png": "[encoded data removed]",
      "text/plain": [
       "<Figure size 800x800 with 1 Axes>"
      ]
     },
     "metadata": {},
     "output_type": "display_data"
    }
   ],
   "source": [
    "trajectory, trajectory_return= test_agent.sample_trajectory(20.0)\n",
    "test_agent.plot_trajectory(trajectory)"
   ]
  },
  {
   "cell_type": "code",
   "execution_count": 7,
   "metadata": {},
   "outputs": [
    {
     "data": {
      "text/plain": [
       "'/Users/niyi/Documents/GitHub/Data/Temp/actor_data/DDPGMainActor'"
      ]
     },
     "execution_count": 7,
     "metadata": {},
     "output_type": "execute_result"
    }
   ],
   "source": [
    "test_agent.actor.checkpoint_file"
   ]
  }
 ],
 "metadata": {
  "kernelspec": {
   "display_name": "Python 3",
   "language": "python",
   "name": "python3"
  },
  "language_info": {
   "codemirror_mode": {
    "name": "ipython",
    "version": 3
   },
   "file_extension": ".py",
   "mimetype": "text/x-python",
   "name": "python",
   "nbconvert_exporter": "python",
   "pygments_lexer": "ipython3",
   "version": "3.12.1"
  }
 },
 "nbformat": 4,
 "nbformat_minor": 2
}
