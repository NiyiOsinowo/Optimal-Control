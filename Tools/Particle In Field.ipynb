{
 "cells": [
  {
   "cell_type": "code",
   "execution_count": null,
   "metadata": {},
   "outputs": [],
   "source": [
    "'''This repository contains a detailed implementation of the Reinforcement Learning Enviroment class'''\n",
    "import matplotlib.pyplot as plt\n",
    "import numpy as np\n",
    "from dataclasses import *\n",
    "import torch as T\n",
    "import torch.nn as nn\n",
    "import torch.nn.functional as F\n",
    "import torch.optim as optim\n",
    "from typing import Any, Callable, Dict, List, Tuple, Union, Optional\n",
    "from functools import wraps\n",
    "import os\n",
    "import random\n",
    "from abc import ABC, abstractmethod\n",
    "from collections import deque, namedtuple\n",
    "import scipy.integrate as integrate\n",
    "import scipy.optimize as optimize\n",
    "T.Tensor.ndim = property(lambda self: len(self.shape))"
   ]
  },
  {
   "cell_type": "code",
   "execution_count": null,
   "metadata": {},
   "outputs": [],
   "source": [
    "@dataclass\n",
    "class Particle(EnforceClassTyping):\n",
    "    'This class represents the electric field sources with its position in the field(Position) and the magnitude of the source(Charge)'\n",
    "    Mass: float # kg\n",
    "    Charge: float #C\n",
    "NegativeCharge= Particle(Mass=1.0, Charge= -1e-5)\n",
    "PositiveCharge= Particle(Mass=10.0, Charge= 1e-5)\n",
    "Sources = {\"Particle\": [NegativeCharge],\n",
    "          \"Position\": [T.tensor([1.0, 1.0])]}"
   ]
  }
 ],
 "metadata": {
  "language_info": {
   "name": "python"
  }
 },
 "nbformat": 4,
 "nbformat_minor": 2
}
